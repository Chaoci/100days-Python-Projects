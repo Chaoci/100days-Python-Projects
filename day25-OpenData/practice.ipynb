{
 "cells": [
  {
   "cell_type": "code",
   "execution_count": 10,
   "metadata": {},
   "outputs": [
    {
     "data": {
      "text/plain": [
       "2473"
      ]
     },
     "execution_count": 10,
     "metadata": {},
     "output_type": "execute_result"
    }
   ],
   "source": [
    "import pandas as pd\n",
    "\n",
    "squirrle = pd.read_csv(\"2018_Central_Park_Squirrel_Census_-_Squirrel_Data.csv\")\n",
    "\n",
    "a = len(squirrle[squirrle[\"Primary Fur Color\"]== \"Gray\"])\n",
    "a"
   ]
  },
  {
   "cell_type": "code",
   "execution_count": 12,
   "metadata": {},
   "outputs": [],
   "source": [
    "squirrle_Gray_count = len(squirrle[squirrle[\"Primary Fur Color\"]== \"Gray\"])\n",
    "squirrle_Black_count = len(squirrle[squirrle[\"Primary Fur Color\"]== \"Black\"])\n",
    "squirrle_Cinnamon_count = len(squirrle[squirrle[\"Primary Fur Color\"]== \"Cinnamon\"])\n",
    "\n",
    "squirrle_dict = {\n",
    "    \"Fur Color\":[\"Gray\", \"Black\", \"Cinnamon\"],\n",
    "    \"Count\":[squirrle_Gray_count, squirrle_Black_count, squirrle_Cinnamon_count]\n",
    "}\n",
    "\n",
    "df = pd.DataFrame(squirrle_dict)\n",
    "df.to_csv('squirrle_color.csv')"
   ]
  },
  {
   "cell_type": "code",
   "execution_count": null,
   "metadata": {},
   "outputs": [],
   "source": []
  }
 ],
 "metadata": {
  "kernelspec": {
   "display_name": "Python 3.10.5 64-bit",
   "language": "python",
   "name": "python3"
  },
  "language_info": {
   "codemirror_mode": {
    "name": "ipython",
    "version": 3
   },
   "file_extension": ".py",
   "mimetype": "text/x-python",
   "name": "python",
   "nbconvert_exporter": "python",
   "pygments_lexer": "ipython3",
   "version": "3.10.5"
  },
  "orig_nbformat": 4,
  "vscode": {
   "interpreter": {
    "hash": "aee8b7b246df8f9039afb4144a1f6fd8d2ca17a180786b69acc140d282b71a49"
   }
  }
 },
 "nbformat": 4,
 "nbformat_minor": 2
}
