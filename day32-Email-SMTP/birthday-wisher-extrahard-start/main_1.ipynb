{
 "cells": [
  {
   "cell_type": "code",
   "execution_count": 82,
   "metadata": {},
   "outputs": [
    {
     "name": "stdout",
     "output_type": "stream",
     "text": [
      "2\n"
     ]
    }
   ],
   "source": [
    "import datetime as dt\n",
    "import random as rd\n",
    "now = dt.datetime.now()\n",
    "year = now.year\n",
    "month = now.month\n",
    "day = now.day\n",
    "# hour = now.hour\n",
    "# min = now.minute\n",
    "# second = now.second\n",
    "day_of_week = now.weekday()  # 0 == Mon 1 == Tue\n",
    "print(day_of_week)"
   ]
  },
  {
   "cell_type": "code",
   "execution_count": 83,
   "metadata": {},
   "outputs": [],
   "source": [
    "def new_letter():\n",
    "    with open('letter_templates/letter_1.txt','r') as letter1:\n",
    "        letter1_content = letter1.readlines()\n",
    "    with open('letter_templates/letter_2.txt','r') as letter2:\n",
    "        letter2_content = letter2.readlines()\n",
    "    with open('letter_templates/letter_3.txt','r') as letter3:\n",
    "        letter3_content = letter3.readlines()\n",
    "\n",
    "    total_letter = [letter1_content, letter2_content, letter3_content]\n",
    "    res = \" \".join(total_letter[rd.randint(0,2)])\n",
    "    res = res.replace(\"[NAME]\", i[\"name\"])\n",
    "    return res"
   ]
  },
  {
   "cell_type": "code",
   "execution_count": 84,
   "metadata": {},
   "outputs": [
    {
     "name": "stdout",
     "output_type": "stream",
     "text": [
      "Dear Test6,\n",
      " \n",
      " It's your birthday! Have a great day!\n",
      " \n",
      " All my love,\n",
      " \n",
      " Angela\n"
     ]
    },
    {
     "name": "stderr",
     "output_type": "stream",
     "text": [
      "/var/folders/nz/rv9kk02d7878xpmwxs5fqyzm0000gn/T/ipykernel_55435/270525708.py:4: FutureWarning: Using short name for 'orient' is deprecated. Only the options: ('dict', list, 'series', 'split', 'records', 'index') will be used in a future version. Use one of the above to silence this warning.\n",
      "  a = data_birthday.to_dict(orient=\"record\")\n"
     ]
    }
   ],
   "source": [
    "import pandas as pd\n",
    "data_birthday = pd.read_csv('birthdays.csv')\n",
    "data_birthday.iterrows()\n",
    "a = data_birthday.to_dict(orient=\"record\")\n",
    "for i in a:\n",
    "    if i['month'] == month and i['day']==day:\n",
    "        ans = new_letter()"
   ]
  }
 ],
 "metadata": {
  "kernelspec": {
   "display_name": "Python 3.10.5 64-bit",
   "language": "python",
   "name": "python3"
  },
  "language_info": {
   "codemirror_mode": {
    "name": "ipython",
    "version": 3
   },
   "file_extension": ".py",
   "mimetype": "text/x-python",
   "name": "python",
   "nbconvert_exporter": "python",
   "pygments_lexer": "ipython3",
   "version": "3.10.5"
  },
  "orig_nbformat": 4,
  "vscode": {
   "interpreter": {
    "hash": "aee8b7b246df8f9039afb4144a1f6fd8d2ca17a180786b69acc140d282b71a49"
   }
  }
 },
 "nbformat": 4,
 "nbformat_minor": 2
}
