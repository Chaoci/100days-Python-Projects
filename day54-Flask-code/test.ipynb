{
 "cells": [
  {
   "cell_type": "code",
   "execution_count": 23,
   "metadata": {},
   "outputs": [
    {
     "name": "stdout",
     "output_type": "stream",
     "text": [
      "hello\n"
     ]
    }
   ],
   "source": [
    "# python decorator\n",
    "import time \n",
    "\n",
    "def delay_decorator(func):\n",
    "    def wrapper_function():\n",
    "        time.sleep(2)\n",
    "        func()\n",
    "        func()\n",
    "    return wrapper_function\n",
    "    \n",
    "@delay_decorator\n",
    "def say_hello():\n",
    "    print(\"hello\")\n",
    "\n",
    "@delay_decorator\n",
    "def say_bye():\n",
    "    print(\"bye\")\n",
    "\n",
    "\n",
    "say_hello()"
   ]
  },
  {
   "cell_type": "code",
   "execution_count": 24,
   "metadata": {},
   "outputs": [
    {
     "name": "stdout",
     "output_type": "stream",
     "text": [
      "Now use function 'warp_2'\n",
      "Now the Unix time is 1666920400\n",
      "Bark !!!\n"
     ]
    }
   ],
   "source": [
    "def print_func_name(func):\n",
    "    def warp_1():\n",
    "        print(\"Now use function '{}'\".format(func.__name__))\n",
    "        func()\n",
    "    return warp_1\n",
    "\n",
    "\n",
    "def print_time(func):\n",
    "    import time\n",
    "    def warp_2():\n",
    "        print(\"Now the Unix time is {}\".format(int(time.time())))\n",
    "        func()\n",
    "    return warp_2\n",
    "\n",
    "\n",
    "@print_func_name\n",
    "@print_time\n",
    "def dog_bark():\n",
    "    print(\"Bark !!!\")\n",
    "\n",
    "\n",
    "\n",
    "if __name__ == \"__main__\":\n",
    "    dog_bark()\n",
    "    # > Now use function 'warp_2'\n",
    "    # > Now the Unix time is 1541239747\n",
    "    # > Bark !!!"
   ]
  },
  {
   "cell_type": "code",
   "execution_count": null,
   "metadata": {},
   "outputs": [],
   "source": []
  }
 ],
 "metadata": {
  "kernelspec": {
   "display_name": "Python 3.10.5 64-bit",
   "language": "python",
   "name": "python3"
  },
  "language_info": {
   "codemirror_mode": {
    "name": "ipython",
    "version": 3
   },
   "file_extension": ".py",
   "mimetype": "text/x-python",
   "name": "python",
   "nbconvert_exporter": "python",
   "pygments_lexer": "ipython3",
   "version": "3.10.5"
  },
  "orig_nbformat": 4,
  "vscode": {
   "interpreter": {
    "hash": "aee8b7b246df8f9039afb4144a1f6fd8d2ca17a180786b69acc140d282b71a49"
   }
  }
 },
 "nbformat": 4,
 "nbformat_minor": 2
}
