{
 "cells": [
  {
   "cell_type": "code",
   "execution_count": 1,
   "metadata": {},
   "outputs": [
    {
     "data": {
      "text/plain": [
       "{'exercises': [{'tag_id': 317,\n",
       "   'user_input': 'run',\n",
       "   'duration_min': 30,\n",
       "   'met': 9.8,\n",
       "   'nf_calories': 374.85,\n",
       "   'photo': {'highres': 'https://d2xdmhkmkbyw75.cloudfront.net/exercise/317_highres.jpg',\n",
       "    'thumb': 'https://d2xdmhkmkbyw75.cloudfront.net/exercise/317_thumb.jpg',\n",
       "    'is_user_uploaded': False},\n",
       "   'compendium_code': 12050,\n",
       "   'name': 'running',\n",
       "   'description': None,\n",
       "   'benefits': None}]}"
      ]
     },
     "execution_count": 1,
     "metadata": {},
     "output_type": "execute_result"
    }
   ],
   "source": [
    "import requests\n",
    "import datetime\n",
    "import pandas as pd\n",
    "\n",
    "NUTRITION_ID = \"00a1f5a4\"\n",
    "NUTRITION_KEY = \"cd44018070646622126a10ead3759f50\"\n",
    "\n",
    "GENDER = \"male\"\n",
    "WEIGHT_KG = \"76.5\"\n",
    "HEIGHT_CM = \"176\"\n",
    "AGE = \"26\"\n",
    "\n",
    "exercise_endpoint = \"https://trackapi.nutritionix.com/v2/natural/exercise\"\n",
    "\n",
    "exercise_text = input(\"What's kind of exercise you did?\")\n",
    "\n",
    "headers = {\n",
    "    \"x-app-id\": NUTRITION_ID,\n",
    "    \"x-app-key\":NUTRITION_KEY,\n",
    "}\n",
    "exercise_parameters = {\n",
    "    \"query\": exercise_text,\n",
    "    \"gender\": GENDER,\n",
    "    \"weight_kg\": WEIGHT_KG,\n",
    "    \"height_cm\": HEIGHT_CM,\n",
    "    \"age\":AGE,\n",
    "}\n",
    "response = requests.post(url=exercise_endpoint,json=exercise_parameters,headers=headers)\n",
    "result = response.json()\n",
    "result"
   ]
  },
  {
   "cell_type": "code",
   "execution_count": 2,
   "metadata": {},
   "outputs": [
    {
     "data": {
      "text/plain": [
       "[{'tag_id': 317,\n",
       "  'user_input': 'run',\n",
       "  'duration_min': 30,\n",
       "  'met': 9.8,\n",
       "  'nf_calories': 374.85,\n",
       "  'photo': {'highres': 'https://d2xdmhkmkbyw75.cloudfront.net/exercise/317_highres.jpg',\n",
       "   'thumb': 'https://d2xdmhkmkbyw75.cloudfront.net/exercise/317_thumb.jpg',\n",
       "   'is_user_uploaded': False},\n",
       "  'compendium_code': 12050,\n",
       "  'name': 'running',\n",
       "  'description': None,\n",
       "  'benefits': None}]"
      ]
     },
     "execution_count": 2,
     "metadata": {},
     "output_type": "execute_result"
    }
   ],
   "source": [
    "result['exercises']"
   ]
  },
  {
   "cell_type": "code",
   "execution_count": null,
   "metadata": {},
   "outputs": [],
   "source": [
    "import requests\n",
    "from datetime import datetime\n",
    "\n",
    "\n",
    "exercise_endpoint = \"https://trackapi.nutritionix.com/v2/natural/exercise\"\n",
    "sheet_endpoint = YOUR SHEETY ENDPOINT\n",
    "\n",
    "exercise_text = input(\"Tell me which exercises you did: \")\n",
    "\n",
    "headers = {\n",
    "    \"x-app-id\": APP_ID,\n",
    "    \"x-app-key\": API_KEY,\n",
    "}\n",
    "\n",
    "parameters = {\n",
    "    \"query\": exercise_text,\n",
    "    \"gender\": GENDER,\n",
    "    \"weight_kg\": WEIGHT_KG,\n",
    "    \"height_cm\": HEIGHT_CM,\n",
    "    \"age\": AGE\n",
    "}\n",
    "\n",
    "response = requests.post(exercise_endpoint, json=parameters, headers=headers)\n",
    "result = response.json()\n",
    "\n",
    "################### Start of Step 4 Solution ######################\n",
    "\n",
    "today_date = datetime.now().strftime(\"%d/%m/%Y\")\n",
    "now_time = datetime.now().strftime(\"%X\")\n",
    "\n",
    "for exercise in result[\"exercises\"]:\n",
    "    sheet_inputs = {\n",
    "        \"workout\": {\n",
    "            \"date\": today_date,\n",
    "            \"time\": now_time,\n",
    "            \"exercise\": exercise[\"name\"].title(),\n",
    "            \"duration\": exercise[\"duration_min\"],\n",
    "            \"calories\": exercise[\"nf_calories\"]\n",
    "        }\n",
    "    }\n",
    "\n",
    "    sheet_response = requests.post(sheet_endpoint, json=sheet_inputs)\n",
    "\n",
    "    print(sheet_response.text)"
   ]
  }
 ],
 "metadata": {
  "kernelspec": {
   "display_name": "Python 3.10.5 64-bit",
   "language": "python",
   "name": "python3"
  },
  "language_info": {
   "codemirror_mode": {
    "name": "ipython",
    "version": 3
   },
   "file_extension": ".py",
   "mimetype": "text/x-python",
   "name": "python",
   "nbconvert_exporter": "python",
   "pygments_lexer": "ipython3",
   "version": "3.10.5"
  },
  "orig_nbformat": 4,
  "vscode": {
   "interpreter": {
    "hash": "aee8b7b246df8f9039afb4144a1f6fd8d2ca17a180786b69acc140d282b71a49"
   }
  }
 },
 "nbformat": 4,
 "nbformat_minor": 2
}
