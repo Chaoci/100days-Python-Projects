{
 "cells": [
  {
   "cell_type": "code",
   "execution_count": 9,
   "metadata": {},
   "outputs": [],
   "source": [
    "from selenium import webdriver\n",
    "from selenium.webdriver.chrome.service import Service\n",
    "from webdriver_manager.chrome import ChromeDriverManager\n",
    "from selenium.webdriver.common.by import By\n",
    "from selenium.webdriver.common.keys import Keys\n",
    "import time\n",
    "account_my = \"new.chaoci@gmail.com\"\n",
    "password_my = \"********\"\n",
    "\n",
    "driver = webdriver.Chrome(service=Service(ChromeDriverManager().install()))\n",
    "driver.get('https://www.linkedin.com/')\n",
    "time.sleep(5)\n",
    "account = driver.find_element(By.NAME,\"session_key\")\n",
    "account.send_keys(account_my)\n",
    "\n",
    "password = driver.find_element(By.NAME,\"session_password\")\n",
    "password.send_keys(password_my)\n",
    "\n",
    "button_signin = driver.find_element(By.CLASS_NAME,\"sign-in-form__submit-button\")\n",
    "button_signin.click()\n",
    "\n",
    "\n",
    "# driver.find_element(By.)"
   ]
  }
 ],
 "metadata": {
  "kernelspec": {
   "display_name": "Python 3.10.5 64-bit",
   "language": "python",
   "name": "python3"
  },
  "language_info": {
   "codemirror_mode": {
    "name": "ipython",
    "version": 3
   },
   "file_extension": ".py",
   "mimetype": "text/x-python",
   "name": "python",
   "nbconvert_exporter": "python",
   "pygments_lexer": "ipython3",
   "version": "3.10.5"
  },
  "orig_nbformat": 4,
  "vscode": {
   "interpreter": {
    "hash": "aee8b7b246df8f9039afb4144a1f6fd8d2ca17a180786b69acc140d282b71a49"
   }
  }
 },
 "nbformat": 4,
 "nbformat_minor": 2
}
