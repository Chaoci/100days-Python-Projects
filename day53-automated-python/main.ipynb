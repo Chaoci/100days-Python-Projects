{
 "cells": [
  {
   "cell_type": "code",
   "execution_count": 74,
   "metadata": {},
   "outputs": [],
   "source": [
    "import requests\n",
    "from bs4 import BeautifulSoup\n",
    "from selenium import webdriver\n",
    "from selenium.webdriver.chrome.service import Service\n",
    "from webdriver_manager.chrome import ChromeDriverManager\n",
    "from selenium.webdriver.chrome.options import Options\n",
    "from selenium.webdriver.common.by import By\n",
    "from selenium.webdriver.common.keys import Keys\n",
    "import time\n",
    "\n",
    "# caaching the data from zillow\n",
    "URL_591 = \"https://rent.591.com.tw/?multiPrice=5000_10000&kind=2&region=8\"\n",
    "google_sheet ='https://forms.gle/ViTZVdi8sPHFq3MX6'\n",
    "\n",
    "class AutomateWork:\n",
    "    \n",
    "    def __init__(self):\n",
    "        self.driver = webdriver.Chrome(service=Service(ChromeDriverManager().install()))\n",
    "        self.price = []\n",
    "        self.link = []\n",
    "        self.address=[]\n",
    "\n",
    "    def Get_rent_data(self,url):\n",
    "        self.driver.get(url)\n",
    "        time.sleep(5)\n",
    "        self.price = [res.text.split(\"/\")[0] for res in self.driver.find_elements(By.CLASS_NAME,'item-price-text')]\n",
    "        self.link =[x.find_element(By.TAG_NAME,'a').get_attribute('href') for x in self.driver.find_elements(By.CLASS_NAME,'vue-list-rent-item')]\n",
    "        self.address =[res.text for res in self.driver.find_elements(By.CLASS_NAME,'item-area')]\n",
    "        \n",
    "        return self.price\n",
    "    \n",
    "    def autowrite(self,url):\n",
    "        \n",
    "        for _ in range(len(self.address)):\n",
    "            self.driver.get(url)\n",
    "            time.sleep(3)\n",
    "            q_1 = self.driver.find_element(By.XPATH,'//*[@id=\"mG61Hd\"]/div[2]/div/div[2]/div[1]/div/div/div[2]/div/div[1]/div/div[1]/input')\n",
    "            q_1.send_keys(self.address[_])\n",
    "            \n",
    "            q_2 = self.driver.find_element(By.XPATH,'//*[@id=\"mG61Hd\"]/div[2]/div/div[2]/div[2]/div/div/div[2]/div/div[1]/div/div[1]/input')\n",
    "            q_2.send_keys(self.price[_])\n",
    "            \n",
    "            q_3 =self.driver.find_element(By.XPATH,'//*[@id=\"mG61Hd\"]/div[2]/div/div[2]/div[3]/div/div/div[2]/div/div[1]/div/div[1]/input')\n",
    "            q_3.send_keys(self.link[_])\n",
    "            \n",
    "            enter_button = self.driver.find_element(By.XPATH,'//*[@id=\"mG61Hd\"]/div[2]/div/div[3]/div[1]/div[1]/div/span')\n",
    "            enter_button.click()\n",
    "        \n",
    "bot = AutomateWork()\n",
    "bot.Get_rent_data(URL_591)\n",
    "time.sleep(30)\n",
    "bot.autowrite(google_sheet)\n"
   ]
  }
 ],
 "metadata": {
  "kernelspec": {
   "display_name": "Python 3.10.5 64-bit",
   "language": "python",
   "name": "python3"
  },
  "language_info": {
   "codemirror_mode": {
    "name": "ipython",
    "version": 3
   },
   "file_extension": ".py",
   "mimetype": "text/x-python",
   "name": "python",
   "nbconvert_exporter": "python",
   "pygments_lexer": "ipython3",
   "version": "3.10.5"
  },
  "orig_nbformat": 4,
  "vscode": {
   "interpreter": {
    "hash": "aee8b7b246df8f9039afb4144a1f6fd8d2ca17a180786b69acc140d282b71a49"
   }
  }
 },
 "nbformat": 4,
 "nbformat_minor": 2
}
