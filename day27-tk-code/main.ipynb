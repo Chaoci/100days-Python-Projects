{
 "cells": [
  {
   "cell_type": "code",
   "execution_count": null,
   "metadata": {},
   "outputs": [],
   "source": [
    "import tkinter\n",
    "\n",
    "window = tkinter.Tk()\n",
    "\n",
    "window.mainloop()"
   ]
  },
  {
   "cell_type": "code",
   "execution_count": 4,
   "metadata": {},
   "outputs": [
    {
     "data": {
      "text/plain": [
       "25"
      ]
     },
     "execution_count": 4,
     "metadata": {},
     "output_type": "execute_result"
    }
   ],
   "source": [
    "def add(*args):\n",
    "    sum = 0\n",
    "    for n in args:\n",
    "        sum = sum + n\n",
    "    return sum\n",
    "\n",
    "add(2,3,4,5,6)"
   ]
  },
  {
   "cell_type": "code",
   "execution_count": 8,
   "metadata": {},
   "outputs": [
    {
     "name": "stdout",
     "output_type": "stream",
     "text": [
      "25\n"
     ]
    }
   ],
   "source": [
    "def calculate(n,**kwargs):\n",
    "    n += kwargs[\"add\"]\n",
    "    n *= kwargs[\"multiply\"]\n",
    "    print(n)\n",
    "    \n",
    "calculate(2,add = 3, multiply =5)"
   ]
  },
  {
   "cell_type": "code",
   "execution_count": null,
   "metadata": {},
   "outputs": [],
   "source": []
  }
 ],
 "metadata": {
  "kernelspec": {
   "display_name": "Python 3.10.3 64-bit",
   "language": "python",
   "name": "python3"
  },
  "language_info": {
   "codemirror_mode": {
    "name": "ipython",
    "version": 3
   },
   "file_extension": ".py",
   "mimetype": "text/x-python",
   "name": "python",
   "nbconvert_exporter": "python",
   "pygments_lexer": "ipython3",
   "version": "3.10.3"
  },
  "orig_nbformat": 4,
  "vscode": {
   "interpreter": {
    "hash": "b4ea76c1531d03d42fa684ef75e88bec03153d3e383e7fec7c7cfb2b3fcabf35"
   }
  }
 },
 "nbformat": 4,
 "nbformat_minor": 2
}
