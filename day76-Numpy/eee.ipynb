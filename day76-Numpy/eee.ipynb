{
 "cells": [
  {
   "cell_type": "code",
   "execution_count": 2,
   "metadata": {},
   "outputs": [
    {
     "data": {
      "text/plain": [
       "dict"
      ]
     },
     "execution_count": 2,
     "metadata": {},
     "output_type": "execute_result"
    }
   ],
   "source": [
    "import pandas as pd\n",
    "import json\n",
    "my_dict = {\n",
    "    \"Role\":[\"男主\",\"女主\",\"男配\"],\n",
    "    \"Options\": {\n",
    "        \"男主\":{\n",
    "            \"name\":\"Andy\",\n",
    "            \"age\":\"21\",\n",
    "            \"hobby\":\"skating\"\n",
    "        },\n",
    "        \"女主\":{\n",
    "            \"name\":\"Anna\",\n",
    "            \"age\":\"21\",\n",
    "            \"hobby\":\"piano\"\n",
    "        },\n",
    "        \"男配\":{\n",
    "            \"name\":\"Allen\",\n",
    "            \"age\":\"21\",\n",
    "            \"hobby\":\"video game\"\n",
    "        }\n",
    "    },\n",
    "    \"items\":\"water\"\n",
    "}\n",
    "type(my_dict)"
   ]
  },
  {
   "cell_type": "code",
   "execution_count": 6,
   "metadata": {},
   "outputs": [
    {
     "data": {
      "text/plain": [
       "str"
      ]
     },
     "execution_count": 6,
     "metadata": {},
     "output_type": "execute_result"
    }
   ],
   "source": [
    "json_data = json.dumps(my_dict,ensure_ascii=False)\n",
    "type(json_data)"
   ]
  },
  {
   "cell_type": "code",
   "execution_count": 7,
   "metadata": {},
   "outputs": [],
   "source": [
    "with open ('test1.json','w') as f:\n",
    "    f.write(json_data)"
   ]
  },
  {
   "cell_type": "code",
   "execution_count": null,
   "metadata": {},
   "outputs": [],
   "source": []
  }
 ],
 "metadata": {
  "kernelspec": {
   "display_name": "Python 3.10.5 64-bit",
   "language": "python",
   "name": "python3"
  },
  "language_info": {
   "codemirror_mode": {
    "name": "ipython",
    "version": 3
   },
   "file_extension": ".py",
   "mimetype": "text/x-python",
   "name": "python",
   "nbconvert_exporter": "python",
   "pygments_lexer": "ipython3",
   "version": "3.10.5"
  },
  "orig_nbformat": 4,
  "vscode": {
   "interpreter": {
    "hash": "aee8b7b246df8f9039afb4144a1f6fd8d2ca17a180786b69acc140d282b71a49"
   }
  }
 },
 "nbformat": 4,
 "nbformat_minor": 2
}
