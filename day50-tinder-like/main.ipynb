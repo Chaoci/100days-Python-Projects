{
 "cells": [
  {
   "cell_type": "code",
   "execution_count": 1,
   "metadata": {},
   "outputs": [],
   "source": [
    "from selenium import webdriver\n",
    "from selenium.webdriver.chrome.service import Service\n",
    "from webdriver_manager.chrome import ChromeDriverManager\n",
    "from selenium.webdriver.common.by import By\n",
    "from selenium.webdriver.common.keys import Keys\n",
    "import time\n",
    "\n",
    "driver = webdriver.Chrome(service=Service(ChromeDriverManager().install()))\n",
    "driver.get(\"https://tinder.com/\")\n",
    "time.sleep(3)\n",
    "\n",
    "login_button = driver.find_element(By.CSS_SELECTOR,\"#q-1380955487 > div > div.App__body.H\\(100\\%\\).Pos\\(r\\).Z\\(0\\) > div > main > div.H\\(100\\%\\) > div > div > div > div > header > div > div.D\\(f\\).Ai\\(c\\).Fxs\\(0\\) > div.Mx\\(28px\\).Mx\\(8px\\)--m > a > div.w1u9t036 > div.l17p5q9z\")\n",
    "\n",
    "\n",
    "login_button.click()\n",
    "\n",
    "time.sleep(3)\n",
    "facebook_login = driver.find_element(By.CSS_SELECTOR,\"#q1185630733 > main > div > div.Ta\\(c\\).H\\(100\\%\\).D\\(f\\).Fxd\\(c\\).Pos\\(r\\) > div > div > div:nth-child(3) > span > div:nth-child(2) > button > div.w1u9t036 > div.l17p5q9z\")\n",
    "\n",
    "facebook_login.click()"
   ]
  },
  {
   "cell_type": "code",
   "execution_count": 2,
   "metadata": {},
   "outputs": [],
   "source": [
    "driver.window_handles\n",
    "\n",
    "base_window = driver.window_handles[0]\n",
    "\n",
    "fb_login_window = driver.window_handles[1]\n",
    "driver.switch_to.window(fb_login_window)\n",
    "# print(driver.title)\n",
    "fb_email = driver.find_element(By.NAME,\"email\")\n",
    "fb_email.send_keys(\"a20264520@yahoo.com.tw\")\n",
    "\n",
    "fb_password = driver.find_element(By.NAME,\"pass\")\n",
    "fb_password.send_keys(\"post8430\")\n",
    "\n",
    "time.sleep(3)\n",
    "fb_login_button = driver.find_element(By.NAME,\"login\")\n",
    "fb_login_button.click()"
   ]
  },
  {
   "cell_type": "code",
   "execution_count": 3,
   "metadata": {},
   "outputs": [],
   "source": [
    "driver.switch_to.window(base_window)\n",
    "\n",
    "time.sleep(5)\n",
    "# close all the pop content\n",
    "\n",
    "location_allow = driver.find_element(By.XPATH,\"//*[@id='q1185630733']/main/div/div/div/div[3]/button[1]/span\")\n",
    "location_allow.click()\n",
    "time.sleep(5)\n",
    "\n",
    "enable_button = driver.find_element(By.XPATH,\"//*[@id='q1185630733']/main/div/div/div/div[3]/button[2]/span\")\n",
    "enable_button.click()\n",
    "\n",
    "accept_cookie = driver.find_element(By.XPATH,\"//*[@id='q-1380955487']/div/div[2]/div/div/div[1]/div[1]/button/div[2]/div[2]\")\n",
    "\n",
    "accept_cookie.click()\n",
    "\n"
   ]
  },
  {
   "cell_type": "code",
   "execution_count": 4,
   "metadata": {},
   "outputs": [
    {
     "ename": "NameError",
     "evalue": "name 'InvalidSelectorException' is not defined",
     "output_type": "error",
     "traceback": [
      "\u001b[0;31m---------------------------------------------------------------------------\u001b[0m",
      "\u001b[0;31mNoSuchElementException\u001b[0m                    Traceback (most recent call last)",
      "\u001b[1;32m/Users/kuanhungchao/Documents/python_project/100days-python/day50-tinder-like/main.ipynb Cell 4\u001b[0m in \u001b[0;36m<cell line: 2>\u001b[0;34m()\u001b[0m\n\u001b[1;32m      <a href='vscode-notebook-cell:/Users/kuanhungchao/Documents/python_project/100days-python/day50-tinder-like/main.ipynb#W3sZmlsZQ%3D%3D?line=4'>5</a>\u001b[0m \u001b[39mtry\u001b[39;00m:\n\u001b[0;32m----> <a href='vscode-notebook-cell:/Users/kuanhungchao/Documents/python_project/100days-python/day50-tinder-like/main.ipynb#W3sZmlsZQ%3D%3D?line=5'>6</a>\u001b[0m     like_button \u001b[39m=\u001b[39m driver\u001b[39m.\u001b[39;49mfind_element(By\u001b[39m.\u001b[39;49mXPATH,\u001b[39m'\u001b[39;49m\u001b[39m//*[@id=\u001b[39;49m\u001b[39m\"\u001b[39;49m\u001b[39mq-1380955487\u001b[39;49m\u001b[39m\"\u001b[39;49m\u001b[39m]/div/div[1]/div/main/div[1]/div/div/div[1]/div/div/div[4]/div/div[4]/button/span/span\u001b[39;49m\u001b[39m'\u001b[39;49m)\n\u001b[1;32m      <a href='vscode-notebook-cell:/Users/kuanhungchao/Documents/python_project/100days-python/day50-tinder-like/main.ipynb#W3sZmlsZQ%3D%3D?line=6'>7</a>\u001b[0m     like_button\u001b[39m.\u001b[39mclick()\n",
      "File \u001b[0;32m/Library/Frameworks/Python.framework/Versions/3.10/lib/python3.10/site-packages/selenium/webdriver/remote/webdriver.py:856\u001b[0m, in \u001b[0;36mWebDriver.find_element\u001b[0;34m(self, by, value)\u001b[0m\n\u001b[1;32m    854\u001b[0m     value \u001b[39m=\u001b[39m \u001b[39m'\u001b[39m\u001b[39m[name=\u001b[39m\u001b[39m\"\u001b[39m\u001b[39m%s\u001b[39;00m\u001b[39m\"\u001b[39m\u001b[39m]\u001b[39m\u001b[39m'\u001b[39m \u001b[39m%\u001b[39m value\n\u001b[0;32m--> 856\u001b[0m \u001b[39mreturn\u001b[39;00m \u001b[39mself\u001b[39;49m\u001b[39m.\u001b[39;49mexecute(Command\u001b[39m.\u001b[39;49mFIND_ELEMENT, {\n\u001b[1;32m    857\u001b[0m     \u001b[39m'\u001b[39;49m\u001b[39musing\u001b[39;49m\u001b[39m'\u001b[39;49m: by,\n\u001b[1;32m    858\u001b[0m     \u001b[39m'\u001b[39;49m\u001b[39mvalue\u001b[39;49m\u001b[39m'\u001b[39;49m: value})[\u001b[39m'\u001b[39m\u001b[39mvalue\u001b[39m\u001b[39m'\u001b[39m]\n",
      "File \u001b[0;32m/Library/Frameworks/Python.framework/Versions/3.10/lib/python3.10/site-packages/selenium/webdriver/remote/webdriver.py:429\u001b[0m, in \u001b[0;36mWebDriver.execute\u001b[0;34m(self, driver_command, params)\u001b[0m\n\u001b[1;32m    428\u001b[0m \u001b[39mif\u001b[39;00m response:\n\u001b[0;32m--> 429\u001b[0m     \u001b[39mself\u001b[39;49m\u001b[39m.\u001b[39;49merror_handler\u001b[39m.\u001b[39;49mcheck_response(response)\n\u001b[1;32m    430\u001b[0m     response[\u001b[39m'\u001b[39m\u001b[39mvalue\u001b[39m\u001b[39m'\u001b[39m] \u001b[39m=\u001b[39m \u001b[39mself\u001b[39m\u001b[39m.\u001b[39m_unwrap_value(\n\u001b[1;32m    431\u001b[0m         response\u001b[39m.\u001b[39mget(\u001b[39m'\u001b[39m\u001b[39mvalue\u001b[39m\u001b[39m'\u001b[39m, \u001b[39mNone\u001b[39;00m))\n",
      "File \u001b[0;32m/Library/Frameworks/Python.framework/Versions/3.10/lib/python3.10/site-packages/selenium/webdriver/remote/errorhandler.py:243\u001b[0m, in \u001b[0;36mErrorHandler.check_response\u001b[0;34m(self, response)\u001b[0m\n\u001b[1;32m    242\u001b[0m     \u001b[39mraise\u001b[39;00m exception_class(message, screen, stacktrace, alert_text)  \u001b[39m# type: ignore[call-arg]  # mypy is not smart enough here\u001b[39;00m\n\u001b[0;32m--> 243\u001b[0m \u001b[39mraise\u001b[39;00m exception_class(message, screen, stacktrace)\n",
      "\u001b[0;31mNoSuchElementException\u001b[0m: Message: no such element: Unable to locate element: {\"method\":\"xpath\",\"selector\":\"//*[@id=\"q-1380955487\"]/div/div[1]/div/main/div[1]/div/div/div[1]/div/div/div[4]/div/div[4]/button/span/span\"}\n  (Session info: chrome=106.0.5249.119)\nStacktrace:\n0   chromedriver                        0x00000001006f2f44 chromedriver + 3813188\n1   chromedriver                        0x0000000100684ae0 chromedriver + 3361504\n2   chromedriver                        0x0000000100388c5c chromedriver + 232540\n3   chromedriver                        0x00000001003ba380 chromedriver + 435072\n4   chromedriver                        0x00000001003e7f44 chromedriver + 622404\n5   chromedriver                        0x00000001003af358 chromedriver + 389976\n6   chromedriver                        0x00000001003b0284 chromedriver + 393860\n7   chromedriver                        0x00000001006c6e18 chromedriver + 3632664\n8   chromedriver                        0x00000001006ca97c chromedriver + 3647868\n9   chromedriver                        0x00000001006d0b58 chromedriver + 3672920\n10  chromedriver                        0x00000001006cb350 chromedriver + 3650384\n11  chromedriver                        0x00000001006a88dc chromedriver + 3508444\n12  chromedriver                        0x00000001006e5914 chromedriver + 3758356\n13  chromedriver                        0x00000001006e5a78 chromedriver + 3758712\n14  chromedriver                        0x00000001006f96cc chromedriver + 3839692\n15  libsystem_pthread.dylib             0x00000001a30de06c _pthread_start + 148\n16  libsystem_pthread.dylib             0x00000001a30d8e2c thread_start + 8\n",
      "\nDuring handling of the above exception, another exception occurred:\n",
      "\u001b[0;31mNameError\u001b[0m                                 Traceback (most recent call last)",
      "\u001b[1;32m/Users/kuanhungchao/Documents/python_project/100days-python/day50-tinder-like/main.ipynb Cell 4\u001b[0m in \u001b[0;36m<cell line: 2>\u001b[0;34m()\u001b[0m\n\u001b[1;32m      <a href='vscode-notebook-cell:/Users/kuanhungchao/Documents/python_project/100days-python/day50-tinder-like/main.ipynb#W3sZmlsZQ%3D%3D?line=6'>7</a>\u001b[0m     like_button\u001b[39m.\u001b[39mclick()\n\u001b[1;32m      <a href='vscode-notebook-cell:/Users/kuanhungchao/Documents/python_project/100days-python/day50-tinder-like/main.ipynb#W3sZmlsZQ%3D%3D?line=7'>8</a>\u001b[0m \u001b[39m#if there is a match then python cannot find the element\u001b[39;00m\n\u001b[0;32m----> <a href='vscode-notebook-cell:/Users/kuanhungchao/Documents/python_project/100days-python/day50-tinder-like/main.ipynb#W3sZmlsZQ%3D%3D?line=8'>9</a>\u001b[0m \u001b[39mexcept\u001b[39;00m InvalidSelectorException:\n\u001b[1;32m     <a href='vscode-notebook-cell:/Users/kuanhungchao/Documents/python_project/100days-python/day50-tinder-like/main.ipynb#W3sZmlsZQ%3D%3D?line=9'>10</a>\u001b[0m     \u001b[39mtry\u001b[39;00m:\n\u001b[1;32m     <a href='vscode-notebook-cell:/Users/kuanhungchao/Documents/python_project/100days-python/day50-tinder-like/main.ipynb#W3sZmlsZQ%3D%3D?line=10'>11</a>\u001b[0m         match_popup \u001b[39m=\u001b[39m driver\u001b[39m.\u001b[39mfind_element(By\u001b[39m.\u001b[39mCSS_SELECTOR,\u001b[39m\"\u001b[39m\u001b[39m.itsAMatch a\u001b[39m\u001b[39m\"\u001b[39m)\n",
      "\u001b[0;31mNameError\u001b[0m: name 'InvalidSelectorException' is not defined"
     ]
    }
   ],
   "source": [
    "# for hit likes\n",
    "for n in range(100):\n",
    "    time.sleep(1)\n",
    "    \n",
    "    try:\n",
    "        like_button = driver.find_element(By.XPATH,'//*[@id=\"q-1380955487\"]/div/div[1]/div/main/div[1]/div/div/div[1]/div/div/div[4]/div/div[4]/button/span/span')\n",
    "        like_button.click()\n",
    "    #if there is a match then python cannot find the element\n",
    "    except InvalidSelectorException:\n",
    "        try:\n",
    "            match_popup = driver.find_element(By.CSS_SELECTOR,\".itsAMatch a\")\n",
    "            match_popup.click()\n",
    "        \n",
    "        except NoSuchElementException:\n",
    "            time.sleep(2)\n",
    "\n",
    "driver.quit()"
   ]
  }
 ],
 "metadata": {
  "kernelspec": {
   "display_name": "Python 3.10.5 64-bit",
   "language": "python",
   "name": "python3"
  },
  "language_info": {
   "codemirror_mode": {
    "name": "ipython",
    "version": 3
   },
   "file_extension": ".py",
   "mimetype": "text/x-python",
   "name": "python",
   "nbconvert_exporter": "python",
   "pygments_lexer": "ipython3",
   "version": "3.10.5"
  },
  "orig_nbformat": 4,
  "vscode": {
   "interpreter": {
    "hash": "aee8b7b246df8f9039afb4144a1f6fd8d2ca17a180786b69acc140d282b71a49"
   }
  }
 },
 "nbformat": 4,
 "nbformat_minor": 2
}
