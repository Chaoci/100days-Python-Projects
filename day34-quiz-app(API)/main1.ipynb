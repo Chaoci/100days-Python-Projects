{
 "cells": [
  {
   "cell_type": "code",
   "execution_count": 45,
   "metadata": {},
   "outputs": [
    {
     "data": {
      "text/plain": [
       "['In the \"Shrek\" film franchise, Donkey is played by Eddie Murphy.',\n",
       " 'What was the name of the first front-wheel-drive car produced by Datsun (now Nissan)?',\n",
       " 'The Red Hot Chili Pepper song \"Give It Away\" is from what album?',\n",
       " 'When did Spanish Peninsular War start?',\n",
       " 'The Japanese god Izanagi successfully returned his wife Izanami from the Underworld.',\n",
       " 'When Christopher Columbus sailed to America, what was the first region he arrived in?',\n",
       " 'The character Plum from \"No Game No Life\" is of what race?',\n",
       " 'What is the alter-ego of the DC comics character \"Superman\"?',\n",
       " \"During the Winter War, the amount of Soviet Union soliders that died or went missing was five times more than Finland's.\",\n",
       " 'For the film \"Raiders of The Lost Ark\", what was Harrison Ford sick with during the filming of the Cairo chase?']"
      ]
     },
     "execution_count": 45,
     "metadata": {},
     "output_type": "execute_result"
    }
   ],
   "source": [
    "import requests as rq\n",
    "import pandas\n",
    "import html\n",
    "\n",
    "response = rq.get(url=\"https://opentdb.com/api.php?amount=10\")\n",
    "response.raise_for_status()\n",
    "data = response.json()\n",
    "data\n",
    "# new_data = []\n",
    "# for i in data['results']:\n",
    "#     new_data.append(i)\n",
    "data1  = {single_data:single_key for single_data, single_key in enumerate(data[\"results\"])}\n",
    "b = pandas.DataFrame(data)\n",
    "a = pandas.DataFrame(data1)\n",
    "res = b.results\n",
    "question = [html.unescape(question_data['question']) for question_data in res]\n",
    "question"
   ]
  },
  {
   "cell_type": "code",
   "execution_count": null,
   "metadata": {},
   "outputs": [],
   "source": []
  },
  {
   "cell_type": "code",
   "execution_count": null,
   "metadata": {},
   "outputs": [],
   "source": []
  }
 ],
 "metadata": {
  "kernelspec": {
   "display_name": "Python 3.10.5 64-bit",
   "language": "python",
   "name": "python3"
  },
  "language_info": {
   "codemirror_mode": {
    "name": "ipython",
    "version": 3
   },
   "file_extension": ".py",
   "mimetype": "text/x-python",
   "name": "python",
   "nbconvert_exporter": "python",
   "pygments_lexer": "ipython3",
   "version": "3.10.5"
  },
  "orig_nbformat": 4,
  "vscode": {
   "interpreter": {
    "hash": "aee8b7b246df8f9039afb4144a1f6fd8d2ca17a180786b69acc140d282b71a49"
   }
  }
 },
 "nbformat": 4,
 "nbformat_minor": 2
}
