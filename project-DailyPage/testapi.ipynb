{
 "cells": [
  {
   "cell_type": "code",
   "execution_count": 2,
   "metadata": {},
   "outputs": [],
   "source": [
    "import requests\n",
    "import pandas as pd\n",
    "endpoint = \"https://api.openweathermap.org/data/2.5/weather?\"\n",
    "lat, lon = 24.175746, 120.704863\n",
    "appid = \"53975d0982d5081161f5efa3db4247c7\"\n",
    "lang = \"zh_TW\"\n",
    "\n",
    "parameters = {\n",
    "    \"lat\":lat,\n",
    "    \"lon\":lon,\n",
    "    \"appid\":appid,\n",
    "    \"lang\":lang,\n",
    "}\n",
    "\n",
    "a= requests.get(endpoint,params=parameters)\n",
    "data = a.json()\n",
    "\n",
    "def check_weather():\n",
    "    if data['weather'][0]['id'] < 700:\n",
    "        return\"記得帶傘\"\n",
    "    else:\n",
    "        return \"不需要帶傘喔！\"\n"
   ]
  },
  {
   "cell_type": "code",
   "execution_count": 3,
   "metadata": {},
   "outputs": [
    {
     "data": {
      "text/plain": [
       "'晴'"
      ]
     },
     "execution_count": 3,
     "metadata": {},
     "output_type": "execute_result"
    }
   ],
   "source": [
    "data['weather'][0]['description']"
   ]
  },
  {
   "cell_type": "code",
   "execution_count": 4,
   "metadata": {},
   "outputs": [
    {
     "data": {
      "text/plain": [
       "25.8"
      ]
     },
     "execution_count": 4,
     "metadata": {},
     "output_type": "execute_result"
    }
   ],
   "source": [
    "round(data['main']['temp'] - 273.15,2)\n",
    "round(data['main']['temp_min'] - 273.15,2)\n",
    "round(data['main']['temp_max'] - 273.15,2)\n"
   ]
  },
  {
   "cell_type": "code",
   "execution_count": 5,
   "metadata": {},
   "outputs": [
    {
     "name": "stdout",
     "output_type": "stream",
     "text": [
      "2022 Nov 30\n"
     ]
    }
   ],
   "source": [
    "import datetime as dt\n",
    "now = dt.date.today()\n",
    "mon = {\n",
    "    1:'Jan',\n",
    "    2:'Feb',\n",
    "    3:'Mar',\n",
    "    4:'Api',\n",
    "    5:'May',\n",
    "    6:'Jun',\n",
    "    7:'Jul',\n",
    "    8:'Aug',\n",
    "    9:'Sep',\n",
    "    10:'Oct',\n",
    "    11:'Nov',\n",
    "    12:'Dec'\n",
    "}\n",
    "\n",
    "now.year\n",
    "mon[now.month]\n",
    "print(f\"{now.year} {mon[now.month]} {now.day}\")"
   ]
  },
  {
   "cell_type": "code",
   "execution_count": 6,
   "metadata": {},
   "outputs": [
    {
     "data": {
      "text/plain": [
       "{'status': 'ok',\n",
       " 'totalResults': 34,\n",
       " 'articles': [{'source': {'id': None, 'name': 'Gamebase.com.tw'},\n",
       "   'author': None,\n",
       "   'title': '《Theatrhythm Final Bar Line》亞洲繁中版將與日本同步推出，遊戲玩法最新內容公開 - 遊戲基地',\n",
       "   'description': '日本 Square Enix 預定自 2023 年 2 月 16 日起，在 Nintendo Switch 主機上推出的音樂節奏新作《Theatrhythm Final Bar Line》（シアトリズム ファイナルバーライン），公開亞版最新情報，預告本作繁體中文版也將自 2023 年 2 月 16 日起與日版同步推出。透過音樂喚醒《FF》回憶\\u3000\\u30002012 年《FF》系列首部音樂遊戲《Theat',\n",
       "   'url': 'https://news.gamebase.com.tw/news/detail/99404901',\n",
       "   'urlToImage': 'https://image.gamebase.com.tw/gb_img/7/004/236/4236027.jpg&og=y',\n",
       "   'publishedAt': '2022-11-30T04:00:27Z',\n",
       "   'content': None},\n",
       "  {'source': {'id': None, 'name': 'udn 聯合新聞網'},\n",
       "   'author': '芋仔',\n",
       "   'title': 'NVIDIA訓練AI玩《Minecraft》得機器學習獎 玩家「一聲令下」就能做所有事 - udn 遊戲角落',\n",
       "   'description': 'NVIDIA 在 PC 玩家眼中常與高階遊戲顯示卡連結一起，但其實除了繪圖晶片（GPU），這家公司也深入發展 AI、高效能運算（HPC）與自動駕駛領域，其 MineDojo AI 近期在機器學習學術會',\n",
       "   'url': 'https://game.udn.com/game/story/122089/6803784',\n",
       "   'urlToImage': 'https://pgw.udn.com.tw/gw/photo.php?u=https://uc.udn.com.tw/photo/2022/11/30/0/19566742.png&s=Y&x=0&y=256&sw=796&sh=448&sl=W&fw=800',\n",
       "   'publishedAt': '2022-11-30T03:58:45Z',\n",
       "   'content': 'NVIDIAPC GPU AIHPC MineDojo AI Minecraft\\r\\nAI Minecraft NPCOpenAI AI \\r\\n NVIDIA AI NeurIPS 2022Outstanding DatasetsBenchmarks\\r\\n NVIDIA MineDojo AI OpemAI GPT-3 Minecraft AI AI Dungeon\\r\\n MineDojo \\r\\nMine… [+187 chars]'},\n",
       "  {'source': {'id': None, 'name': 'Ettoday.net'},\n",
       "   'author': 'ETtoday新聞雲',\n",
       "   'title': '高雄里長落選人外出1小時未歸 陳屍宮廟附近樹下 - ETtoday新聞雲',\n",
       "   'description': '高雄市1名里長候選人落選，29日進行謝票行程，返家後外出未歸，被發現陳屍在一處宮廟附近樹下，詳細原因仍有待調查釐清。(高雄,里長,2022九合一大選)',\n",
       "   'url': 'https://www.ettoday.net/news/20221130/2391246.htm',\n",
       "   'urlToImage': 'https://cdn2.ettoday.net/images/6721/d6721125.jpg',\n",
       "   'publishedAt': '2022-11-30T03:57:00Z',\n",
       "   'content': None},\n",
       "  {'source': {'id': None, 'name': 'Yahoo Entertainment'},\n",
       "   'author': '樓冠陞',\n",
       "   'title': '富豪尪涉洗錢遭逮！安以軒「神隱10月」 閨蜜曝她近況 - Yahoo奇摩新聞',\n",
       "   'description': '安以軒丈夫陳榮煉在今年初捲入非法經營賭博與洗錢風波，結果遭到警方逮捕。而在此消息曝光之後，安以軒也隨即神隱，且至今尚未對此發言。不過，她的好友夏于喬在日前出席新戲記者會時，便透露的安以軒的近況。',\n",
       "   'url': 'https://tw.news.yahoo.com/%E5%AF%8C%E8%B1%AA%E5%B0%AA%E6%B6%89%E6%B4%97%E9%8C%A2%E9%81%AD%E9%80%AE-%E5%AE%89%E4%BB%A5%E8%BB%92-%E7%A5%9E%E9%9A%B110%E6%9C%88-%E9%96%A8%E8%9C%9C%E6%9B%9D%E5%A5%B9%E8%BF%91%E6%B3%81-034609559.html',\n",
       "   'urlToImage': 'https://media.zenfs.com/ko/news_tvbs_com_tw_938/179e68cee9c2595b030bc502199108bf',\n",
       "   'publishedAt': '2022-11-30T03:55:41Z',\n",
       "   'content': None},\n",
       "  {'source': {'id': 'google-news', 'name': 'Google News'},\n",
       "   'author': None,\n",
       "   'title': 'Microsoft：千萬別再總是給筆電充滿電了！延長鋰電池壽命正確方法分享 - XFastest News',\n",
       "   'description': None,\n",
       "   'url': 'https://news.google.com/__i/rss/rd/articles/CBMi8gFodHRwczovL25ld3MueGZhc3Rlc3QuY29tL21pY3Jvc29mdC8xMjEwNDgvbWljcm9zb2Z0JUVGJUJDJTlBJUU1JThEJTgzJUU4JTkwJUFDJUU1JTg4JUE1JUU1JTg2JThEJUU3JUI4JUJEJUU2JTk4JUFGJUU3JUI1JUE2JUU3JUFEJTg2JUU5JTlCJUJCJUU1JTg1JTg1JUU2JUJCJUJGJUU5JTlCJUJCJUU0JUJBJTg2JUVGJUJDJTgxJUU1JUJCJUI2JUU5JTk1JUI3JUU5JThCJUIwJUU5JTlCJUJCJUU2JUIxJUEwJUU1JUEzJUJEL9IBAA?oc=5',\n",
       "   'urlToImage': None,\n",
       "   'publishedAt': '2022-11-30T03:44:40Z',\n",
       "   'content': None},\n",
       "  {'source': {'id': None, 'name': 'Yahoo Entertainment'},\n",
       "   'author': '三立新聞網',\n",
       "   'title': '台積電分紅開獎！年資8個月新人分享：年薪飆44個月「爽領266萬」 - Yahoo奇摩新聞',\n",
       "   'description': '記者戴玉翔／台北報導「護國神山」台積電（2330）分紅開獎！台積電薪水高、福利好，，即使頻傳工作辛苦、時間長，仍是許多人出社會想進入的目標。一名台積電員工分享最近收到的超大分紅，讓',\n",
       "   'url': 'https://tw.news.yahoo.com/%E5%8F%B0%E7%A9%8D%E9%9B%BB%E5%88%86%E7%B4%85%E9%96%8B%E7%8D%8E-%E6%96%B0%E4%BA%BA%E5%BE%858%E5%80%8B%E6%9C%88-%E5%B9%B4%E8%96%AA%E9%A3%8644%E5%80%8B%E6%9C%88-%E7%88%BD%E9%A0%98266%E8%90%AC-030022769.html',\n",
       "   'urlToImage': 'https://media.zenfs.com/zh-tw/setn.com.tw/0b05d400bfebde484e484b8042334853',\n",
       "   'publishedAt': '2022-11-30T03:33:45Z',\n",
       "   'content': '23308313.8446266\\r\\nDcardGG80.8y/31/3.8m3183.8\\r\\n48814446266\\r\\n32y/31/2.6m3yrs/32/3.86m0.7y/24/1.7m1.1y/31/3.3m5y333.8m5y/32/3.6m3y/32/3.52m\\r\\nPTTGGGG\\r\\n2333004409 31 7 1500'},\n",
       "  {'source': {'id': None, 'name': 'Yahoo Entertainment'},\n",
       "   'author': 'Yahoo奇摩（國際通）',\n",
       "   'title': '世足「世仇對決」美國氣走伊朗 拜登樂翻大喊「USA」 英格蘭勝「兄弟」威爾斯 球迷狂喜 - Yahoo奇摩新聞',\n",
       "   'description': '世足賽B組第三輪預賽登場，美國對伊朗睽違24年「世仇對決」，由於兩國政治關係緊繃，以及伊朗近日國內局勢，使這場比賽備受矚目，卡達也將本場賽事維安升級。最終美國以1：0甜蜜復仇，氣走伊朗，挺進16強，伊朗飲恨出局。美國球迷興奮地手舞足蹈，總統拜登在密西根出席活動時，獲知最後賽果，特別表達欣喜之情。  \\xa0 ...',\n",
       "   'url': 'https://tw.news.yahoo.com/%E4%B8%96%E8%B6%B3-%E4%B8%96%E4%BB%87%E5%B0%8D%E6%B1%BA-%E7%BE%8E%E5%9C%8B%E6%B0%A3%E8%B5%B0%E4%BC%8A%E6%9C%97-%E6%8B%9C%E7%99%BB%E6%A8%82%E7%BF%BB%E5%A4%A7%E5%96%8A-usa-031033341.html',\n",
       "   'urlToImage': 'https://s.yimg.com/ny/api/res/1.2/pj5TEBPo7eO.R6bi..do5g--/YXBwaWQ9aGlnaGxhbmRlcjt3PTEyMDA7aD02NzU-/https://s.yimg.com/hd/cp-video-transcode/production/da24bbb2-3144-33c7-b48b-bdc2e86452ce/2022-11-30/03-10-34/b41b508c-60f8-588d-b00d-2763b4081c0b/stream_1280x720x0_v2_3_0.jpg',\n",
       "   'publishedAt': '2022-11-30T03:20:48Z',\n",
       "   'content': '2022FIFA World Cup Qatar 2022104AKalidou KoulibalyCody Gakpo20BChristian Pulisic1016Marcus Rashford30'},\n",
       "  {'source': {'id': None, 'name': 'Yahoo Entertainment'},\n",
       "   'author': 'Yahoo奇摩（即時新聞）',\n",
       "   'title': '大選前政見北北基桃1200元補助 交通部：113年才有預算 - Yahoo奇摩新聞',\n",
       "   'description': '九合一選舉投票前，北北基桃民進黨候選人提出整合台鐵、捷運、國道客運等1200元交通月票，稍早政府也同意中央補助，上周王國材預估，每年所需經費約52億元，交通部可補助一半經費。交通部長王國材今天在立法院交通委員會答詢表示，包括北北基桃先前提出新台幣1200元交通月費及其他生活圈的交通補助，要民國113年才會有預算。',\n",
       "   'url': 'https://tw.news.yahoo.com/%E5%A4%A7%E9%81%B8%E5%89%8D%E6%94%BF%E8%A6%8B%E5%8C%97%E5%8C%97%E5%9F%BA%E6%A1%83-1200-%E5%85%83%E4%BA%A4%E9%80%9A%E8%A3%9C%E5%8A%A9-%E4%BA%A4%E9%80%9A%E9%83%A8%EF%BC%9A-113-%E5%B9%B4%E6%89%8D%E6%9C%89%E9%A0%90%E7%AE%97-024352033.html',\n",
       "   'urlToImage': 'https://media.zenfs.com/en/cna.com.tw/43e281958da07628297aed4a36e52b39',\n",
       "   'publishedAt': '2022-11-30T02:44:49Z',\n",
       "   'content': '[CTWANT] 2022FIFA World Cup Qatar'},\n",
       "  {'source': {'id': None, 'name': 'Ltn.com.tw'},\n",
       "   'author': '自由時報',\n",
       "   'title': '白紙革命》余茂春：中國人抗議的不是清零 而是中共專制政權 - 自由時報',\n",
       "   'description': '針對中國出現的「白紙革命」，前美國國務院中國政策首席顧問余茂春今日表示，中國人民抗議的不是清零，而是中共專制政權。他舉在北京的抗議集會上，一名官員警告不要被「境外勢力」影響。憤怒的抗議者則反嗆：這是「指馬克思和恩格斯嗎？」余說，中共的嚴厲作為和這次爆發的抗議活動的根源，均與疫情無關，而是關於共產主義與自由之間的鬥爭。現擔任哈德遜研究所中國中心主任的余茂春29日在《紐約郵報》撰文說，中共的意識形態一直有一個顯著的一致性。習近平清零政策的動機，與20世紀50年代毛澤東相信戰無不勝的中國共產黨可以消滅中國所有老鼠和麻雀…',\n",
       "   'url': 'https://news.ltn.com.tw/news/world/breakingnews/4140086',\n",
       "   'urlToImage': 'https://img.ltn.com.tw/Upload/news/600/2022/11/30/phpbbXg3l.jpg',\n",
       "   'publishedAt': '2022-11-30T02:43:26Z',\n",
       "   'content': None},\n",
       "  {'source': {'id': None, 'name': 'Yahoo Entertainment'},\n",
       "   'author': '周子馨',\n",
       "   'title': '命超硬！3奈籍偷渡客躲油輪船舵 海上飄11天奇蹟生還 - Yahoo奇摩新聞',\n",
       "   'description': '西班牙南部自治區加納利群島（Canary Islands）日前發生一起驚奇偷渡事件，3名奈及利亞公民躲在一艘載有大量化學物質的貨輪「船舵」上，在經過長達11天的航程後竟然奇蹟生還，成功偷渡到加納利群島的港口後，才被西班牙海警發現，。',\n",
       "   'url': 'https://tw.news.yahoo.com/%E5%91%BD%E8%B6%85%E7%A1%AC-3%E5%A5%88%E7%B1%8D%E5%81%B7%E6%B8%A1%E5%AE%A2%E8%BA%B2%E6%B2%B9%E8%BC%AA%E8%88%B9%E8%88%B5-%E6%B5%B7%E4%B8%8A%E9%A3%8411%E5%A4%A9%E5%A5%87%E8%B9%9F%E7%94%9F%E9%82%84-021102834.html',\n",
       "   'urlToImage': 'https://media.zenfs.com/ko/news_tvbs_com_tw_938/829100c297a5f6daedaa33ed88a9fa47',\n",
       "   'publishedAt': '2022-11-30T02:21:18Z',\n",
       "   'content': '3 SALVAMENTO MARÍTIMO @salvamentogob\\r\\nCanary Islands311\\r\\nCNN29Althini II1128LagosLas Palmas33\\r\\n33\\r\\n2102022551\\r\\n2020410\\r\\n TVBS 1 46440 5.7'},\n",
       "  {'source': {'id': None, 'name': 'Ebc.net.tw'},\n",
       "   'author': '東森新聞 責任編輯 趙浩雲',\n",
       "   'title': '再發一次振興券？王浩宇驚曝：政府財政OK - 東森新聞',\n",
       "   'description': '距離上一次發放「五倍券」已經是2021年5月的事，前議員王浩宇在臉書發文提到「再發一次振興券」，還回應網友表示「政府財政ok」，引發熱烈討論。',\n",
       "   'url': 'https://news.ebc.net.tw/news/living/346469',\n",
       "   'urlToImage': 'https://img.news.ebc.net.tw/EbcNews/news/2022/11/30/1669801068_47441.jpg',\n",
       "   'publishedAt': '2022-11-30T02:21:00Z',\n",
       "   'content': '20215ok\\r\\n22\\r\\n20093,6006500320020201,000520045003,0002021931,000250052005000\\r\\n339\\xa0\\r\\n385851011002021\\r\\n29\\r\\nok\\r\\nok\\r\\n10'},\n",
       "  {'source': {'id': None, 'name': 'Tvbs.com.tw'},\n",
       "   'author': '陳怡伶',\n",
       "   'title': '預言20縣市全中！日本學者再出手 斷言「這黨」2024會贏│TVBS新聞網 - TVBS',\n",
       "   'description': '民進黨在2022九合一大選慘敗，僅奪5縣市；國民黨則是拿13縣市。台灣議題研究權威的「神人級學者」早在選前1個月就預言，竟然僅錯1縣市；而他也最新預言，2024年總統大選恐由「這黨」奪下。',\n",
       "   'url': 'https://news.tvbs.com.tw/politics/1976666',\n",
       "   'urlToImage': 'https://cc.tvbs.com.tw/img/upload/2022/11/30/20221130100908-ef85f083.jpg',\n",
       "   'publishedAt': '2022-11-30T02:19:00Z',\n",
       "   'content': None},\n",
       "  {'source': {'id': None, 'name': 'Natgeomedia.com'},\n",
       "   'author': None,\n",
       "   'title': '韋伯太空望遠鏡又刷新最遠星系的紀錄 - 國家地理雜誌',\n",
       "   'description': '美國航太總署（NASA）在上週四的記者會上又發布了兩個異常明亮的極遙遠星系，這兩個特殊天體是在過去所發現巨型星系團Abell 2744的外圍區域，雖然這些星系都僅有銀河系的百分之幾大小。 - 國家地理雜誌中文網',\n",
       "   'url': 'https://www.natgeomedia.com/science/article/content-15790.html',\n",
       "   'urlToImage': 'https://img.natgeomedia.com/userfiles/sm/sm1200630_images_A1/15790/2022113035512713.png',\n",
       "   'publishedAt': '2022-11-30T02:08:12Z',\n",
       "   'content': '09:00-18:00 cservice@natgeomedia.com E-Mail \\r\\n© 2022 Boulder Media Inc, Taiwan / National Geographic'},\n",
       "  {'source': {'id': None, 'name': 'Yahoo Entertainment'},\n",
       "   'author': '劉哲琪',\n",
       "   'title': '白紙革命延燒！陸網友向港人道歉：後悔反送中沒挺香港 - Yahoo奇摩新聞',\n",
       "   'description': '大陸爆發白紙革命，大批民眾手持白紙，在北京、上海和武漢等城市走上街頭，悼念烏魯木齊火災罹難者和反封控，甚至有人大喊「習近平下台」。英國、美國和法國各地也有民眾上街響應。近日有推特網友指出，許多大陸民眾在網上留言，對於過去沒有聲援香港「反送中」感到遺憾，向他們表示歉意。',\n",
       "   'url': 'https://tw.news.yahoo.com/%E7%99%BD%E7%B4%99%E9%9D%A9%E5%91%BD%E5%BB%B6%E7%87%92-%E9%99%B8%E7%B6%B2%E5%8F%8B%E5%90%91%E6%B8%AF%E4%BA%BA%E9%81%93%E6%AD%89-%E5%BE%8C%E6%82%94%E5%8F%8D%E9%80%81%E4%B8%AD%E6%B2%92%E6%8C%BA%E9%A6%99%E6%B8%AF-015124610.html',\n",
       "   'urlToImage': 'https://media.zenfs.com/zh-tw/news_tvbs_com_tw_938/93e843c093a1222d49a1f60849029dab',\n",
       "   'publishedAt': '2022-11-30T01:58:14Z',\n",
       "   'content': 'NBADwight HowardT1GQIG101'},\n",
       "  {'source': {'id': None, 'name': 'udn 聯合新聞網'},\n",
       "   'author': '記者趙宥寧／台北即時報導',\n",
       "   'title': '上班時間帶女秘書上咖啡廳不妥？ 謝曉星：我不認為 - 聯合新聞網',\n",
       "   'description': '原能會主委謝曉星被周刊爆料言語性騷、肢體碰觸女下屬，利用上班時間帶女下屬搭公務車到咖啡廳視訊兼課，此事也讓行政院成立專案...',\n",
       "   'url': 'https://udn.com/news/story/6656/6803440',\n",
       "   'urlToImage': 'https://pgw.udn.com.tw/gw/photo.php?u=https://uc.udn.com.tw/photo/2022/11/30/realtime/19565556.jpg&s=Y&x=0&y=11&sw=1479&sh=986&exp=3600',\n",
       "   'publishedAt': '2022-11-30T01:20:05Z',\n",
       "   'content': None},\n",
       "  {'source': {'id': None, 'name': 'Yahoo Entertainment'},\n",
       "   'author': '傑拉德',\n",
       "   'title': '世足運彩分析 》面對波蘭恐難取勝 阿根廷晉級路命運多舛 - Yahoo奇摩運動',\n",
       "   'description': '1日深夜的世界盃重頭戲，肯定是凌晨三時開賽的波蘭對阿根廷，梅西如果沒能率領阿根廷擊敗波蘭，可能面臨在分組賽出局的命運。可是阿根廷能取勝嗎﹖筆者認為恐怕很困難。',\n",
       "   'url': 'https://tw.sports.yahoo.com/news/%E4%B8%96%E8%B6%B3%E9%81%8B%E5%BD%A9%E5%88%86%E6%9E%90-%E3%80%8B%E9%9D%A2%E5%B0%8D%E6%B3%A2%E8%98%AD%E6%81%90%E9%9B%A3%E5%8F%96%E5%8B%9D-%E9%98%BF%E6%A0%B9%E5%BB%B7%E6%99%89%E7%B4%9A%E8%B7%AF%E5%91%BD%E9%81%8B%E5%A4%9A%E8%88%9B-004028631.html',\n",
       "   'urlToImage': 'https://s.yimg.com/ny/api/res/1.2/.BsBpWhQoCiadflDBL54FA--/YXBwaWQ9aGlnaGxhbmRlcjt3PTEyMDA7aD04MDA-/https://s.yimg.com/os/creatr-uploaded-images/2022-11/153a3ac0-7047-11ed-bf75-da5afc387abe',\n",
       "   'publishedAt': '2022-11-30T00:43:13Z',\n",
       "   'content': 'Lionel Messi(Photo by Dean Mouhtaropoulos/Getty Images)\\r\\n0:0ZielinskiSzczesnyLewandowski2:0C41986\\r\\nEnzo Fernandez2:03\\r\\n+1 \\r\\nYahoo\\r\\nModric H CCristiano Ronaldo -'},\n",
       "  {'source': {'id': None, 'name': 'Top1health.com'},\n",
       "   'author': '黃曼瑩',\n",
       "   'title': '抵抗力差、疲勞，「隱性飢餓」在搗蛋！營養師：缺乏2大類營養素，恐成高危險群 - 華人健康網',\n",
       "   'description': '你是否經常感覺疲勞、抵抗力差，甚至傷口不易癒合？小心可能是「隱性飢餓」找上門！李婉萍營養師表示，提醒，如果缺乏兩大量營養素的人，就可能是「隱性飢餓」高危險群，注意3原則有助遠離「隱性飢餓」的威脅！不良的飲食習慣是造成微量營養素缺乏的主要原因，',\n",
       "   'url': 'https://www.top1health.com/Article/90534',\n",
       "   'urlToImage': 'https://top1cdn.top1health.com/cdn/am/90534/216608.jpg',\n",
       "   'publishedAt': '2022-11-30T00:39:41Z',\n",
       "   'content': '3\\r\\n2\\r\\nABB12\\r\\nC\\r\\n3\\r\\n1.\\r\\n6\\r\\n2.\\r\\nB\\r\\n3.'},\n",
       "  {'source': {'id': None, 'name': 'Chinatimes.com'},\n",
       "   'author': '何立雯',\n",
       "   'title': '12月新制！室外脫口罩、YouBike1.0退場 懶人包一次看 - 中時新聞網 Chinatimes.com',\n",
       "   'description': '12月1日有多項重大新制上路，其中最重大的改變就是口罩和邊境管制鬆綁，明起室外免戴口罩，室內6種情況如唱KTV也可暫時拿下口罩；另12月10日起將全面取消入境人數上限。此外，0至6歲幼兒和65歲長者12月1日起可免費領',\n",
       "   'url': 'https://www.chinatimes.com/realtimenews/20221130000995-260405',\n",
       "   'urlToImage': 'https://images.chinatimes.com/newsphoto/2022-11-30/656/20221130000996.jpg',\n",
       "   'publishedAt': '2022-11-30T00:30:26Z',\n",
       "   'content': '1216KTV121006651215\\r\\nYouBike1.01211\\r\\n121\\r\\n1216\\r\\n121\\r\\n1210620169265195715\\r\\n1210\\r\\nYouBike1.0\\r\\n123YouBike1.01236129350\\r\\n4\\r\\n12120202116169\\r\\n9\\r\\n121PayMONEYPiLINE Payicash Pay9\\r\\n121\\r\\n30121918\\r\\n1215\\r\\n4\\r\\n121… [+8 chars]'},\n",
       "  {'source': {'id': None, 'name': 'Yahoo Entertainment'},\n",
       "   'author': '周刊王CTWANT |陳煜濬',\n",
       "   'title': '世足／「C羅頭錘」有無觸球？ 比賽用球「傳感器」結果揭曉 - Yahoo奇摩新聞',\n",
       "   'description': '[周刊王CTWANT] 2022年國際足總世界盃（FIFA World Cup Qatar',\n",
       "   'url': 'https://tw.news.yahoo.com/%E4%B8%96%E8%B6%B3-c%E7%BE%85%E9%A0%AD%E9%8C%98-%E6%9C%89%E7%84%A1%E8%A7%B8%E7%90%83-%E6%AF%94%E8%B3%BD%E7%94%A8%E7%90%83-%E5%82%B3%E6%84%9F%E5%99%A8-000220887.html',\n",
       "   'urlToImage': 'https://media.zenfs.com/ko/ctwant_com_582/4fbbbaac22ef32d6ffee70847ca48abb',\n",
       "   'publishedAt': '2022-11-30T00:26:39Z',\n",
       "   'content': '[CTWANT] 2022FIFA World Cup Qatar 2022929CCristiano Ronaldo9BBruno FernandesCadidas Al Rihla Pro\\r\\n60%91410054BC10\\r\\nCCBC9B\\r\\nBCC\\r\\nadidas Al Rihla Pro500Hz IMUCBFIFAadidas Al Rihla ProConnected Ball Tec… [+38 chars]'},\n",
       "  {'source': {'id': None, 'name': 'Yahoo Entertainment'},\n",
       "   'author': '周刊王CTWANT |中國時報黃及人',\n",
       "   'title': '世足／卡達3戰全敗丟7球 登史上最弱地主 - Yahoo奇摩運動',\n",
       "   'description': '[周刊王CTWANT]',\n",
       "   'url': 'https://tw.news.yahoo.com/%E4%B8%96%E8%B6%B3-%E5%8D%A1%E9%81%943%E6%88%B0%E5%85%A8%E6%95%97%E4%B8%9F7%E7%90%83-%E7%99%BB%E5%8F%B2%E4%B8%8A%E6%9C%80%E5%BC%B1%E5%9C%B0%E4%B8%BB-235503666.html',\n",
       "   'urlToImage': 'https://media.zenfs.com/ko/ctwant_com_582/31b57b8021b5843937e0c765547dba7e',\n",
       "   'publishedAt': '2022-11-29T23:55:03Z',\n",
       "   'content': '[newtalk] (European Bank for Reconstruction and Development, EBRD)28(Donor Day)(Action for Equality and Gender Multi-donor Cooperation Fund, A4EG)(Kazuhiko Koguchi)7 A4EG'}]}"
      ]
     },
     "execution_count": 6,
     "metadata": {},
     "output_type": "execute_result"
    }
   ],
   "source": [
    "from news import News\n",
    "news= '9c709e8d873f405cac0b051250205bec'\n",
    "news_endpoint = \"https://newsapi.org/v2/top-headlines?\"\n",
    "\n",
    "news_parameters = {\n",
    "    \"country\":\"tw\",\n",
    "    \"apiKey\":news,\n",
    "}\n",
    "\n",
    "news_data = requests.get(news_endpoint,params=news_parameters).json()\n",
    "news_data['articles'][0]['title']\n",
    "\n",
    "news_data"
   ]
  },
  {
   "cell_type": "code",
   "execution_count": 10,
   "metadata": {},
   "outputs": [
    {
     "name": "stdout",
     "output_type": "stream",
     "text": [
      "https://news.gamebase.com.tw/news/detail/99404901\n",
      "https://game.udn.com/game/story/122089/6803784\n",
      "https://www.ettoday.net/news/20221130/2391246.htm\n"
     ]
    }
   ],
   "source": [
    "news_data_list = []\n",
    "for news_post in news_data['articles'][:3]:\n",
    "    news_obj = News( \n",
    "                    news_title=news_post[\"title\"],\n",
    "                    news_author=news_post[\"author\"],\n",
    "                    news_description=news_post[\"description\"],\n",
    "                    news_url = news_post[\"url\"],\n",
    "                    news_published= news_post[\"publishedAt\"].split('T')[0]\n",
    "                    )\n",
    "    news_data_list.append(news_obj)\n",
    "for ne in news_data_list:\n",
    "    print(ne.url)"
   ]
  },
  {
   "cell_type": "code",
   "execution_count": null,
   "metadata": {},
   "outputs": [],
   "source": []
  }
 ],
 "metadata": {
  "kernelspec": {
   "display_name": "Python 3.10.5 64-bit",
   "language": "python",
   "name": "python3"
  },
  "language_info": {
   "codemirror_mode": {
    "name": "ipython",
    "version": 3
   },
   "file_extension": ".py",
   "mimetype": "text/x-python",
   "name": "python",
   "nbconvert_exporter": "python",
   "pygments_lexer": "ipython3",
   "version": "3.10.5"
  },
  "orig_nbformat": 4,
  "vscode": {
   "interpreter": {
    "hash": "aee8b7b246df8f9039afb4144a1f6fd8d2ca17a180786b69acc140d282b71a49"
   }
  }
 },
 "nbformat": 4,
 "nbformat_minor": 2
}
