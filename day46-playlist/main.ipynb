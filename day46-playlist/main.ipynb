{
 "cells": [
  {
   "cell_type": "code",
   "execution_count": 50,
   "metadata": {},
   "outputs": [
    {
     "data": {
      "text/plain": [
       "['Kick Back',\n",
       " 'SuperCali',\n",
       " 'Subtitle',\n",
       " 'Grace',\n",
       " 'Shin Jidai (Uta from ONE PIECE FILM RED)',\n",
       " 'The Blessing',\n",
       " 'Overdose',\n",
       " 'Watashi Ha Saikyo (Uta from ONE PIECE FILM RED)',\n",
       " 'W / X / Y',\n",
       " 'Uchuu Drive',\n",
       " 'Mixed Nuts',\n",
       " 'SOUVENIR',\n",
       " 'Chainsaw Blood',\n",
       " 'Mou Ichido',\n",
       " 'Utakata Lullaby (Uta from ONE PIECE FILE RED)',\n",
       " 'Gyakkou (Uta from ONE PIECE FILM RED)',\n",
       " 'Dance Hall',\n",
       " 'Cinderella Boy',\n",
       " 'Habit',\n",
       " 'Shikisai',\n",
       " 'Case 143',\n",
       " 'Dried Flower',\n",
       " 'Zettai Inspiration',\n",
       " 'Talk That Talk',\n",
       " 'Yukue Shirezu',\n",
       " 'Suiheisen',\n",
       " 'Hateshinai Futari',\n",
       " 'Shion',\n",
       " 'Betelgeuse',\n",
       " 'Ai Toka Koi Toka',\n",
       " 'Tot Musica (Uta from ONE PIECE FILM RED)',\n",
       " 'Koi Daro',\n",
       " 'Velvet No Uta',\n",
       " 'Nandemo Naiyo',\n",
       " 'Kaze No Yukue (Uta from ONE PIECE FILM RED)',\n",
       " 'Zankyosanka',\n",
       " 'Kirari',\n",
       " 'After Like',\n",
       " 'Yoru Ni Kakeru',\n",
       " 'Shinunoga Iiwa',\n",
       " 'Dynamite',\n",
       " 'Gunjou',\n",
       " 'Pretender',\n",
       " 'Sekai No Tsuduki (Uta from ONE PIECE FILM RED)',\n",
       " 'Edison',\n",
       " 'Itsuka',\n",
       " 'Kaijuu No Hanauta',\n",
       " 'Marigold',\n",
       " 'Butter',\n",
       " 'Zero Kara Ichi he',\n",
       " 'Cry Baby',\n",
       " 'Vanilla',\n",
       " 'Shut Down',\n",
       " 'Monster',\n",
       " 'Ao To Natsu',\n",
       " 'Make The Change',\n",
       " 'Citrus',\n",
       " 'Ame San San',\n",
       " 'Leo',\n",
       " 'Shutter',\n",
       " 'POP!',\n",
       " 'Pink Venom',\n",
       " 'Start Over',\n",
       " 'Suzume',\n",
       " 'Odoriko',\n",
       " 'Tenbyou No Uta',\n",
       " 'Mela!',\n",
       " 'Yui',\n",
       " 'damn',\n",
       " 'Takane No Hanako San',\n",
       " 'Odo',\n",
       " 'Permission To Dance',\n",
       " 'Chameleon',\n",
       " 'Mahou No Juutan',\n",
       " 'Hana No Tou',\n",
       " 'Hello',\n",
       " '115 Millon Kilometer Film',\n",
       " 'Dice',\n",
       " 'I LOVE…',\n",
       " 'Tsukiyomi',\n",
       " 'Tsukimisou',\n",
       " 'Sakayume',\n",
       " 'Lemon',\n",
       " 'Be Selfish',\n",
       " 'Nobishiro',\n",
       " 'Mahou Ni Kakerarete',\n",
       " 'Rebellion',\n",
       " 'Christmas Song',\n",
       " 'Yokaze',\n",
       " 'napori',\n",
       " 'Hontouwane',\n",
       " 'Koibito Gokko',\n",
       " 'Hype Boy',\n",
       " 'Final Call',\n",
       " 'melt bitter',\n",
       " 'Fukakouryoku',\n",
       " 'Love Dive',\n",
       " 'Ichizu',\n",
       " 'Star Main',\n",
       " '3636']"
      ]
     },
     "execution_count": 50,
     "metadata": {},
     "output_type": "execute_result"
    }
   ],
   "source": [
    "import requests\n",
    "from bs4 import BeautifulSoup\n",
    "\n",
    "OAUTH_AUTHORIZE_URL= 'https://accounts.spotify.com/authorize'\n",
    "OAUTH_ID = \"e68adbefddc448729a03e34cfa785722\"\n",
    "OAUTH_SECRET = \"4cb23b48250542e2a8be3f9c9256eb1b\"\n",
    "\n",
    "\n",
    "date = input(\"Which year do you want to travel to? Type the date in this format YYYY-MM-DD:\")\n",
    "\n",
    "\n",
    "# for now is Japanese billboard 100\n",
    "URL = f\"https://www.billboard.com/charts/japan-hot-100/{date}/\"\n",
    "\n",
    "try:\n",
    "    response = requests.get(url=URL)\n",
    "except:\n",
    "    print(\"Please check your date again.\")\n",
    "\n",
    "\n",
    "soup = BeautifulSoup(response.text, \"html.parser\")\n",
    "chart = soup.find_all(\"h3\",class_=\"a-no-trucate\")\n",
    "chart_1 = [song.getText().strip() for song in chart]\n",
    "chart_1"
   ]
  },
  {
   "cell_type": "code",
   "execution_count": 51,
   "metadata": {},
   "outputs": [],
   "source": [
    "import spotipy\n",
    "from spotipy.oauth2 import SpotifyOAuth\n",
    "\n",
    "sp = spotipy.Spotify(\n",
    "    auth_manager=SpotifyOAuth(\n",
    "        scope=\"playlist-modify-private\",\n",
    "        redirect_uri=\"https://example.com/callback\",\n",
    "        client_id=OAUTH_ID,\n",
    "        client_secret=OAUTH_SECRET,\n",
    "        show_dialog=True,\n",
    "        cache_path=\"token.txt\"\n",
    "    )\n",
    ")\n",
    "user_id = sp.current_user()[\"id\"]"
   ]
  },
  {
   "cell_type": "code",
   "execution_count": 52,
   "metadata": {},
   "outputs": [
    {
     "name": "stdout",
     "output_type": "stream",
     "text": [
      "Watashi Ha Saikyo (Uta from ONE PIECE FILM RED) doesn't exist in Spotify. Skipped.\n",
      "Uchuu Drive doesn't exist in Spotify. Skipped.\n",
      "Utakata Lullaby (Uta from ONE PIECE FILE RED) doesn't exist in Spotify. Skipped.\n",
      "Zettai Inspiration doesn't exist in Spotify. Skipped.\n",
      "Yukue Shirezu doesn't exist in Spotify. Skipped.\n",
      "Ai Toka Koi Toka doesn't exist in Spotify. Skipped.\n",
      "Kaze No Yukue (Uta from ONE PIECE FILM RED) doesn't exist in Spotify. Skipped.\n",
      "Sekai No Tsuduki (Uta from ONE PIECE FILM RED) doesn't exist in Spotify. Skipped.\n",
      "Kaijuu No Hanauta doesn't exist in Spotify. Skipped.\n",
      "Zero Kara Ichi he doesn't exist in Spotify. Skipped.\n",
      "115 Millon Kilometer Film doesn't exist in Spotify. Skipped.\n",
      "napori doesn't exist in Spotify. Skipped.\n",
      "Hontouwane doesn't exist in Spotify. Skipped.\n",
      "Fukakouryoku doesn't exist in Spotify. Skipped.\n"
     ]
    },
    {
     "data": {
      "text/plain": [
       "{'snapshot_id': 'Miw2NjMwOWIzMmY4NzhlZjEyNjc1ZDJiZDcxYzk3MTUwMjNmMDU5Njlh'}"
      ]
     },
     "execution_count": 52,
     "metadata": {},
     "output_type": "execute_result"
    }
   ],
   "source": [
    "song_uris = []\n",
    "year = date.split(\"-\")[0]\n",
    "for song in chart_1:\n",
    "    result = sp.search(q=f\"track:{song} year:{year}\", type=\"track\")\n",
    "    try:\n",
    "        uri = result[\"tracks\"][\"items\"][0][\"uri\"]\n",
    "        song_uris.append(uri)\n",
    "    except IndexError:\n",
    "        print(f\"{song} doesn't exist in Spotify. Skipped.\")\n",
    "        \n",
    "playlist = sp.user_playlist_create(user=user_id, name=f\"{date} Billboard 100\", public=False)\n",
    "# print(playlist)\n",
    "\n",
    "sp.playlist_add_items(playlist_id=playlist[\"id\"], items=song_uris)\n"
   ]
  }
 ],
 "metadata": {
  "kernelspec": {
   "display_name": "Python 3.10.5 64-bit",
   "language": "python",
   "name": "python3"
  },
  "language_info": {
   "codemirror_mode": {
    "name": "ipython",
    "version": 3
   },
   "file_extension": ".py",
   "mimetype": "text/x-python",
   "name": "python",
   "nbconvert_exporter": "python",
   "pygments_lexer": "ipython3",
   "version": "3.10.5"
  },
  "orig_nbformat": 4,
  "vscode": {
   "interpreter": {
    "hash": "aee8b7b246df8f9039afb4144a1f6fd8d2ca17a180786b69acc140d282b71a49"
   }
  }
 },
 "nbformat": 4,
 "nbformat_minor": 2
}
