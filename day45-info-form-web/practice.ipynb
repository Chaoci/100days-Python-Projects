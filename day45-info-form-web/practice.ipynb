{
 "cells": [
  {
   "cell_type": "code",
   "execution_count": 68,
   "metadata": {},
   "outputs": [
    {
     "name": "stdout",
     "output_type": "stream",
     "text": [
      "648\n",
      "https://restfox.dev\n",
      "Show HN: Restfox – Open source lightweight alternative to Postman\n"
     ]
    }
   ],
   "source": [
    "from bs4 import BeautifulSoup\n",
    "import requests\n",
    "\n",
    "response = requests.get(\"https://news.ycombinator.com/\")\n",
    "\n",
    "web = response.text\n",
    "\n",
    "soup = BeautifulSoup(web,\"html.parser\")\n",
    "a =soup.find_all(\"span\",class_=\"titleline\")\n",
    "upvote = soup.find_all(class_=\"score\")\n",
    "article_link = []\n",
    "article_text =[]\n",
    "\n",
    "for tags in a:\n",
    "    article_text.append(tags.find(\"a\").text)\n",
    "    article_link.append(tags.find(\"a\").get(\"href\"))\n",
    "\n",
    "score = [int(point.getText().split()[0]) for point in upvote]\n",
    "\n",
    "n = 0\n",
    "for i,e in enumerate(score):\n",
    "    if n < e:\n",
    "        n = e\n",
    "        res_link = article_link[i]\n",
    "        res_title = article_text[i]\n",
    "print(n)\n",
    "print(res_link)\n",
    "print(res_title)"
   ]
  },
  {
   "cell_type": "code",
   "execution_count": null,
   "metadata": {},
   "outputs": [],
   "source": []
  }
 ],
 "metadata": {
  "kernelspec": {
   "display_name": "Python 3.10.3 64-bit",
   "language": "python",
   "name": "python3"
  },
  "language_info": {
   "codemirror_mode": {
    "name": "ipython",
    "version": 3
   },
   "file_extension": ".py",
   "mimetype": "text/x-python",
   "name": "python",
   "nbconvert_exporter": "python",
   "pygments_lexer": "ipython3",
   "version": "3.10.3"
  },
  "orig_nbformat": 4,
  "vscode": {
   "interpreter": {
    "hash": "b4ea76c1531d03d42fa684ef75e88bec03153d3e383e7fec7c7cfb2b3fcabf35"
   }
  }
 },
 "nbformat": 4,
 "nbformat_minor": 2
}
