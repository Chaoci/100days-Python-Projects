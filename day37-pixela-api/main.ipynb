{
 "cells": [
  {
   "cell_type": "code",
   "execution_count": 23,
   "metadata": {},
   "outputs": [],
   "source": [
    "import requests\n",
    "import datetime as dt\n",
    "\n",
    "#pixela_endpoint\n",
    "pixela_endpoint = \"https://pixe.la/v1/users\"\n",
    "\n",
    "USER_NAME =\"chao\"\n",
    "TOKEN = \"12344321chao\"\n",
    "GRAPH_ID = \"graph1\"\n",
    "\n",
    "user_params ={\n",
    "    \"token\":\"12344321chao\",\n",
    "    \"username\":\"chao\",\n",
    "    \"agreeTermsOfService\":\"yes\",\n",
    "    \"notMinor\":\"yes\",\n",
    "}\n",
    "\n",
    "\n",
    "# response = requests.post(url=pixela_endpoint,json=user_params)\n",
    "# print(response.text)\n",
    "\n"
   ]
  },
  {
   "cell_type": "code",
   "execution_count": 24,
   "metadata": {},
   "outputs": [],
   "source": [
    "graph_endpoint = f\"{pixela_endpoint}/{USER_NAME}/graphs\"\n",
    "\n",
    "graph_params = {\n",
    "    \"id\":GRAPH_ID,\n",
    "    \"name\":\"Cycling Graph\",\n",
    "    \"unit\":\"Km\",\n",
    "    \"type\":\"float\",\n",
    "    \"color\":\"sora\",\n",
    "}\n",
    "\n",
    "headers = {\n",
    "    \"X-USER-TOKEN\":TOKEN\n",
    "}\n",
    "\n",
    "# response = requests.post(url= graph_endpoint, json=graph_params, headers=headers)\n",
    "# response.text"
   ]
  },
  {
   "cell_type": "code",
   "execution_count": 25,
   "metadata": {},
   "outputs": [
    {
     "data": {
      "text/plain": [
       "'{\"message\":\"Success.\",\"isSuccess\":true}'"
      ]
     },
     "execution_count": 25,
     "metadata": {},
     "output_type": "execute_result"
    }
   ],
   "source": [
    "# post some value in graph\n",
    "post_endpoint = f\"{pixela_endpoint}/{USER_NAME}/graphs/{GRAPH_ID}\"\n",
    "now = dt.datetime.now()\n",
    "yesterday = dt.datetime(year=2022,month=10,day=15)\n",
    "# TODAY = f\"{now.year}{now.month}{now.day}\"\n",
    "TODAY = now.strftime(\"%Y%m%d\")\n",
    "YESTERDAY = yesterday.strftime(\"%Y%m%d\")\n",
    "\n",
    "post_params = {\n",
    "    \"date\":YESTERDAY,\n",
    "    \"quantity\": \"2.5\",\n",
    "}\n",
    "\n",
    "# response1 = requests.post(url=post_endpoint,json=post_params,headers=headers)\n",
    "# response1.text"
   ]
  },
  {
   "cell_type": "code",
   "execution_count": 26,
   "metadata": {},
   "outputs": [
    {
     "data": {
      "text/plain": [
       "'{\"message\":\"Success.\",\"isSuccess\":true}'"
      ]
     },
     "execution_count": 26,
     "metadata": {},
     "output_type": "execute_result"
    }
   ],
   "source": [
    "# update the pixela\n",
    "\n",
    "update_endpoint = f\"{post_endpoint}/{YESTERDAY}\"\n",
    "\n",
    "update_params ={\n",
    "    \"quantity\":\"15.3\",\n",
    "}\n",
    "\n",
    "# response1 = requests.put(url=update_endpoint,json=update_params,headers=headers)\n",
    "# response1.text"
   ]
  },
  {
   "cell_type": "code",
   "execution_count": 27,
   "metadata": {},
   "outputs": [
    {
     "data": {
      "text/plain": [
       "'{\"message\":\"Success.\",\"isSuccess\":true}'"
      ]
     },
     "execution_count": 27,
     "metadata": {},
     "output_type": "execute_result"
    }
   ],
   "source": [
    "# delet the pixela\n",
    "delet_endpoint = f\"{post_endpoint}/{YESTERDAY}\"\n",
    "\n",
    "response1 = requests.delete(url=delet_endpoint,headers=headers)\n",
    "response1.text"
   ]
  },
  {
   "cell_type": "code",
   "execution_count": null,
   "metadata": {},
   "outputs": [],
   "source": []
  }
 ],
 "metadata": {
  "kernelspec": {
   "display_name": "Python 3.10.3 64-bit",
   "language": "python",
   "name": "python3"
  },
  "language_info": {
   "codemirror_mode": {
    "name": "ipython",
    "version": 3
   },
   "file_extension": ".py",
   "mimetype": "text/x-python",
   "name": "python",
   "nbconvert_exporter": "python",
   "pygments_lexer": "ipython3",
   "version": "3.10.3"
  },
  "orig_nbformat": 4,
  "vscode": {
   "interpreter": {
    "hash": "b4ea76c1531d03d42fa684ef75e88bec03153d3e383e7fec7c7cfb2b3fcabf35"
   }
  }
 },
 "nbformat": 4,
 "nbformat_minor": 2
}
