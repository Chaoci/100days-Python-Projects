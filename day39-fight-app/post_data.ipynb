{
 "cells": [
  {
   "cell_type": "code",
   "execution_count": 2,
   "metadata": {},
   "outputs": [
    {
     "name": "stdout",
     "output_type": "stream",
     "text": [
      "Welcome to Charlie's Flight Club.\n",
      "We'll find the best flight deals and email you.\n",
      "{\n",
      "  \"user\": {\n",
      "    \"firstName\": \"1\",\n",
      "    \"lastName\": \"1\",\n",
      "    \"email\": \"1\",\n",
      "    \"id\": 2\n",
      "  }\n",
      "}\n"
     ]
    }
   ],
   "source": [
    "import requests\n",
    "\n",
    "\n",
    "print(\"Welcome to Charlie's Flight Club.\")\n",
    "print(\"We'll find the best flight deals and email you.\")\n",
    "\n",
    "\n",
    "url = \"https://api.sheety.co/0cc72aeabea665e303c02d94a6fbb2d2/flightDeals/user\"\n",
    "header = {\n",
    "  \"Authorization\": \"Bearer 12344321chaefewierj\"\n",
    "}\n",
    "FIRST_NAME = input(\"What's your first name?\").title()\n",
    "LAST_NAME = input(\"What's your last name?\").title()\n",
    "\n",
    "\n",
    "def check_mail():\n",
    "  MAIL = input(\"What's your email address?\")\n",
    "  check_mail = input(\"Type your email again?\")\n",
    "  if MAIL != check_mail:\n",
    "    check_mail()\n",
    "  else:\n",
    "    return MAIL\n",
    "\n",
    "\n",
    "\n",
    "param_post = {\n",
    "  \"user\":{\n",
    "    \"firstName\": FIRST_NAME,\n",
    "    \"lastName\":LAST_NAME,\n",
    "    \"email\":check_mail(),\n",
    "  }\n",
    "}\n",
    "\n",
    "response = requests.post(url=url,json=param_post,headers=header)\n",
    "print(response.text)"
   ]
  }
 ],
 "metadata": {
  "kernelspec": {
   "display_name": "Python 3.10.3 64-bit",
   "language": "python",
   "name": "python3"
  },
  "language_info": {
   "codemirror_mode": {
    "name": "ipython",
    "version": 3
   },
   "file_extension": ".py",
   "mimetype": "text/x-python",
   "name": "python",
   "nbconvert_exporter": "python",
   "pygments_lexer": "ipython3",
   "version": "3.10.3"
  },
  "orig_nbformat": 4,
  "vscode": {
   "interpreter": {
    "hash": "b4ea76c1531d03d42fa684ef75e88bec03153d3e383e7fec7c7cfb2b3fcabf35"
   }
  }
 },
 "nbformat": 4,
 "nbformat_minor": 2
}
