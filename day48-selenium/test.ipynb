{
 "cells": [
  {
   "cell_type": "code",
   "execution_count": 11,
   "metadata": {},
   "outputs": [
    {
     "name": "stderr",
     "output_type": "stream",
     "text": [
      "/var/folders/nz/rv9kk02d7878xpmwxs5fqyzm0000gn/T/ipykernel_89254/3302130147.py:9: DeprecationWarning: executable_path has been deprecated, please pass in a Service object\n",
      "  driver = webdriver.Chrome(chrome_driver_path)\n"
     ]
    },
    {
     "data": {
      "text/plain": [
       "<selenium.webdriver.remote.webelement.WebElement (session=\"17d66f274e80fd586e74a558e268ecf6\", element=\"080f768b-1263-49ad-b914-3c1a66685011\")>"
      ]
     },
     "execution_count": 11,
     "metadata": {},
     "output_type": "execute_result"
    }
   ],
   "source": [
    "from selenium import webdriver\n",
    "from selenium.webdriver.chrome.service import Service\n",
    "from webdriver_manager.chrome import ChromeDriverManager\n",
    "from selenium.webdriver.common.by import By\n",
    "from selenium.webdriver.common.keys import Keys\n",
    "import time\n",
    "\n",
    "chrome_driver_path = \"/Users/kuanhungchao/Documents/ChromeDriver/chromedriver\"\n",
    "driver = webdriver.Chrome(chrome_driver_path)\n",
    "driver.get(\"https://paela-iecosystem.meida.tw/#/\")\n",
    "\n",
    "time.sleep(3)\n",
    "driver.execute_script(\"window.scrollTo(0, document.body.scrollHeight);\")\n",
    "\n",
    "\n",
    "time.sleep(3)\n",
    "first = driver.find_element(By.XPATH,'//*[@id=\"#app\"]/div/div[2]/div[8]/section/div/div[2]/ul/li[3]/a')\n",
    "first.click()\n",
    "time.sleep(2)\n",
    "\n",
    "bread = driver.find_element(By.XPATH,'//*[@id=\"#app\"]/div/div[2]/div[7]/main/section[2]/div/div[2]/div/ul').find_element(By.TAG_NAME,'a')\n",
    "bread\n",
    "# bread = driver.find_element(By.XPATH,'//*[@id=\"#app\"]/div/div[2]/div[7]/main/section[1]/nav')\n",
    "# bread"
   ]
  },
  {
   "cell_type": "code",
   "execution_count": null,
   "metadata": {},
   "outputs": [],
   "source": []
  },
  {
   "cell_type": "code",
   "execution_count": null,
   "metadata": {},
   "outputs": [],
   "source": []
  }
 ],
 "metadata": {
  "kernelspec": {
   "display_name": "Python 3.10.5 64-bit",
   "language": "python",
   "name": "python3"
  },
  "language_info": {
   "codemirror_mode": {
    "name": "ipython",
    "version": 3
   },
   "file_extension": ".py",
   "mimetype": "text/x-python",
   "name": "python",
   "nbconvert_exporter": "python",
   "pygments_lexer": "ipython3",
   "version": "3.10.5"
  },
  "orig_nbformat": 4,
  "vscode": {
   "interpreter": {
    "hash": "aee8b7b246df8f9039afb4144a1f6fd8d2ca17a180786b69acc140d282b71a49"
   }
  }
 },
 "nbformat": 4,
 "nbformat_minor": 2
}
