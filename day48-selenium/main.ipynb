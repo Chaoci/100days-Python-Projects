{
 "cells": [
  {
   "cell_type": "code",
   "execution_count": 238,
   "metadata": {},
   "outputs": [],
   "source": [
    "from selenium import webdriver\n",
    "from selenium.webdriver.chrome.service import Service\n",
    "from webdriver_manager.chrome import ChromeDriverManager\n",
    "from selenium.webdriver.common.by import By\n",
    "from selenium.webdriver.common.keys import Keys\n",
    "\n",
    "chrome_driver_path = \"/Users/kuanhungchao/Documents/ChromeDriver/chromedriver\"\n",
    "driver = webdriver.Chrome(service=Service(ChromeDriverManager().install()))\n",
    "# driver = webdriver.Chrome(\"/Users/kuanhungchao/Documents/ChromeDriver/chromedriver\")\n",
    "\n",
    "# driver.get(\"https://www.amazon.com/Apple-iPhone-13-Pro-Max/dp/B09LPDM924/ref=sr_1_2?keywords=iphone%2B14&qid=1666574779&qu=eyJxc2MiOiI1LjcxIiwicXNhIjoiNS4yMiIsInFzcCI6IjQuNTUifQ%3D%3D&sprefix=iphone%2Caps%2C289&sr=8-2&th=1\")\n",
    "\n",
    "# price = driver.find_element(By.CSS_SELECTOR,'#renewedBuyBoxPrice')\n",
    "# price.text\n"
   ]
  },
  {
   "cell_type": "code",
   "execution_count": 239,
   "metadata": {},
   "outputs": [],
   "source": [
    "\n",
    "# driver.get(\"https://www.python.org/\")\n",
    "# date_row = driver.find_elements(By.CSS_SELECTOR,\"#content > div > section > div.list-widgets.row > div.medium-widget.event-widget.last > div > ul > li > time\")\n",
    "# data_event = driver.find_elements(By.CSS_SELECTOR,\"#content > div > section > div.list-widgets.row > div.medium-widget.event-widget.last > div > ul > li > a\")\n",
    "# date_list =[]\n",
    "# event_list = []\n",
    "# ans = {}\n",
    "\n",
    "# for e in date_row:\n",
    "#     date_list.append(e.text)   \n",
    "# for x in data_event:\n",
    "#     event_list.append(x.text)\n",
    "\n",
    "# for a,b in enumerate(data_event):\n",
    "#     ans[a] = {\"time\":date_list[a],\"name\":event_list[a]}\n",
    "\n",
    "# print(ans)"
   ]
  },
  {
   "cell_type": "code",
   "execution_count": 240,
   "metadata": {},
   "outputs": [],
   "source": [
    "# driver.get(\"https://en.wikipedia.org/wiki/Main_Page\")\n",
    "# num_raw = driver.find_element(By.CSS_SELECTOR,\"#articlecount > a:nth-child(1)\")\n",
    "# num_raw.click()\n",
    "\n",
    "# all_portals = driver.find_element(By.LINK_TEXT,\"English\")\n",
    "# all_portals.click()\n",
    "\n",
    "# search = driver.find_element(By.NAME,\"search\")\n",
    "# search.send_keys(\"Python\")\n",
    "# search.send_keys(Keys.ENTER)"
   ]
  },
  {
   "cell_type": "code",
   "execution_count": 241,
   "metadata": {},
   "outputs": [],
   "source": [
    "# driver.get(\"http://secure-retreat-92358.herokuapp.com/\")\n",
    "# fname = driver.find_element(By.NAME,\"fName\")\n",
    "# lname = driver.find_element(By.NAME,\"lName\")\n",
    "# email = driver.find_element(By.NAME,\"email\")\n",
    "# button = driver.find_element(By.CSS_SELECTOR,\"body > form > button\")\n",
    "\n",
    "# fname.send_keys(\"ccc\")\n",
    "# lname.send_keys(\"bbb\")\n",
    "# email.send_keys(\"123@gmail.com\")\n",
    "# button.click()\n"
   ]
  },
  {
   "cell_type": "code",
   "execution_count": 242,
   "metadata": {},
   "outputs": [],
   "source": [
    "#play cookie game\n",
    "# import time\n",
    "\n",
    "# driver.get(\"http://orteil.dashnet.org/experiments/cookie/\")\n",
    "# cookie = driver.find_element(By.ID,\"cookie\")\n",
    "# click = True\n",
    "# skill_raw = driver.find_elements(By.CLASS_NAME,\"grayed\")\n",
    "# price =[]\n",
    "# for x in skill_raw[0:8]:\n",
    "#     a = x.text.split(\"\\n\")[0].split(\"-\")[1].replace(\",\",\"\")\n",
    "#     price.append(int(a))  \n",
    "\n",
    "# timeout = time.time()+5\n",
    "\n",
    "# while True:\n",
    "#     cookie.click()\n",
    "#     if time.time()>timeout:\n",
    "#         money_data = driver.find_element(By.ID,\"money\")\n",
    "#         money = int(money_data.text.replace(\",\",\"\"))\n",
    "#         while money > 0:\n",
    "#             for i,e in enumerate(price):\n",
    "#                 if int(money) >= e:\n",
    "#                     skill_raw[i].click()\n",
    "#                     continue\n",
    "#         timeout = time.time()+5\n",
    "        \n"
   ]
  }
 ],
 "metadata": {
  "kernelspec": {
   "display_name": "Python 3.10.5 64-bit",
   "language": "python",
   "name": "python3"
  },
  "language_info": {
   "codemirror_mode": {
    "name": "ipython",
    "version": 3
   },
   "file_extension": ".py",
   "mimetype": "text/x-python",
   "name": "python",
   "nbconvert_exporter": "python",
   "pygments_lexer": "ipython3",
   "version": "3.10.5"
  },
  "orig_nbformat": 4,
  "vscode": {
   "interpreter": {
    "hash": "aee8b7b246df8f9039afb4144a1f6fd8d2ca17a180786b69acc140d282b71a49"
   }
  }
 },
 "nbformat": 4,
 "nbformat_minor": 2
}
