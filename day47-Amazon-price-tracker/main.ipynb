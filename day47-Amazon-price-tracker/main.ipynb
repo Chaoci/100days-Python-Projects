{
 "cells": [
  {
   "cell_type": "code",
   "execution_count": 8,
   "metadata": {},
   "outputs": [
    {
     "data": {
      "text/plain": [
       "'1,100.00'"
      ]
     },
     "execution_count": 8,
     "metadata": {},
     "output_type": "execute_result"
    }
   ],
   "source": [
    "from bs4 import BeautifulSoup\n",
    "import requests\n",
    "import lxml\n",
    "import smtplib\n",
    "import os\n",
    "\n",
    "AMAZON_URL = \"https://www.amazon.com/Apple-iPhone-13-Pro-Max/dp/B09LPDM924/ref=sr_1_2?keywords=iphone%2B14&qid=1666574779&qu=eyJxc2MiOiI1LjcxIiwicXNhIjoiNS4yMiIsInFzcCI6IjQuNTUifQ%3D%3D&sprefix=iphone%2Caps%2C289&sr=8-2&th=1\"\n",
    "\n",
    "header= {\n",
    "    \"Accept-Language\":\"zh-TW,zh;q=0.9,en-US;q=0.8,en;q=0.7\",\n",
    "    \"User-Agent\":\"Mozilla/5.0 (Macintosh; Intel Mac OS X 10_15_7) AppleWebKit/537.36 (KHTML, like Gecko) Chrome/106.0.0.0 Safari/537.36\",\n",
    "}\n",
    "\n",
    "response = requests.get(AMAZON_URL,headers=header)\n",
    "data = response.text\n",
    "soup = BeautifulSoup(data,'lxml')\n",
    "price_tag = soup.find(\"span\",class_=\"a-offscreen\")\n",
    "price = price_tag.getText().split(\"$\")[1]\n",
    "\n",
    "product_title_mask = soup.find(\"span\", id=\"productTitle\").getText().split(\",\")\n",
    "product_title = product_title_mask[0].lstrip()"
   ]
  },
  {
   "cell_type": "code",
   "execution_count": null,
   "metadata": {},
   "outputs": [],
   "source": [
    "# -------------------- SMTP & MESSAGE CONSTRICTOR -------------------- #\n",
    "username = os.environ.get(\"gmail_username\")\n",
    "password = os.environ.get(\"gmail_password\")\n",
    "\n",
    "s = smtplib.SMTP(host=\"smtp.gmail.com\", port=587)\n",
    "s.starttls()\n",
    "s.login(username, password)\n",
    "\n",
    "message = f\"\"\"\\\n",
    "Subject: Low Price Alert -- ${price} for {product_title}\n",
    "\n",
    "{product_title}'s price is dropped to ${price}.\n",
    "\n",
    "Click below to buy now:\n",
    "{AMAZON_URL}\n",
    "\n",
    "\"\"\""
   ]
  },
  {
   "cell_type": "code",
   "execution_count": null,
   "metadata": {},
   "outputs": [],
   "source": [
    "\n",
    "if float(price) <= 1000:\n",
    "    try:\n",
    "        s.sendmail(username, username, message) # Sending email to myself.\n",
    "        print(\"Successfully sent email\")\n",
    "    except smtplib.SMTPException:\n",
    "        print(\"Error: unable to send email\")"
   ]
  }
 ],
 "metadata": {
  "kernelspec": {
   "display_name": "Python 3.10.5 64-bit",
   "language": "python",
   "name": "python3"
  },
  "language_info": {
   "codemirror_mode": {
    "name": "ipython",
    "version": 3
   },
   "file_extension": ".py",
   "mimetype": "text/x-python",
   "name": "python",
   "nbconvert_exporter": "python",
   "pygments_lexer": "ipython3",
   "version": "3.10.5"
  },
  "orig_nbformat": 4,
  "vscode": {
   "interpreter": {
    "hash": "aee8b7b246df8f9039afb4144a1f6fd8d2ca17a180786b69acc140d282b71a49"
   }
  }
 },
 "nbformat": 4,
 "nbformat_minor": 2
}
